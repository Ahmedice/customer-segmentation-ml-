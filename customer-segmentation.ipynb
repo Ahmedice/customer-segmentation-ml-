{
 "cells": [
  {
   "cell_type": "markdown",
   "id": "aa0952d1-021d-4cab-b61d-45896d834a17",
   "metadata": {},
   "source": [
    "# Customer Segmentation "
   ]
  },
  {
   "cell_type": "markdown",
   "id": "da343a6b-199b-44b1-a6ac-f7b229a065a8",
   "metadata": {},
   "source": [
    "#        Objective:\n",
    "\n",
    "    The primary goal of this project is to divide customers into distinct groups based on their purchasing behavior using unsupervised learning techniques. These groups can then be used for personalized marketing, improving customer service, and product development."
   ]
  },
  {
   "cell_type": "markdown",
   "id": "a0af0f26-1dab-4e46-b327-650254dde52e",
   "metadata": {},
   "source": [
    "---------------------------------------------------------------------------------------------"
   ]
  },
  {
   "cell_type": "markdown",
   "id": "c471eab5-630a-4101-a81e-ac1bbc365cab",
   "metadata": {},
   "source": [
    "- import the dependencies "
   ]
  },
  {
   "cell_type": "code",
   "execution_count": 1,
   "id": "57f61904-f031-4e22-a8af-25e3dab0dbe2",
   "metadata": {},
   "outputs": [],
   "source": [
    "import numpy as np \n",
    "import pandas as pd \n",
    "import seaborn as sns \n",
    "from matplotlib import pyplot as plt \n",
    "%matplotlib inline\n",
    "import plotly.express as px\n",
    "sns.set()\n",
    "from sklearn.preprocessing import StandardScaler\n"
   ]
  },
  {
   "cell_type": "markdown",
   "id": "0c897c00-79de-4165-929f-d4232aef54ed",
   "metadata": {},
   "source": [
    "---------------------------------------------------------------------------------------------"
   ]
  },
  {
   "cell_type": "markdown",
   "id": "5d1c3a93-4c9c-47b2-8412-44805436a665",
   "metadata": {},
   "source": [
    "- load the file \n"
   ]
  },
  {
   "cell_type": "code",
   "execution_count": 2,
   "id": "ddab68f3-1dba-49dc-baaa-5532626a17bd",
   "metadata": {},
   "outputs": [
    {
     "data": {
      "text/html": [
       "<div>\n",
       "<style scoped>\n",
       "    .dataframe tbody tr th:only-of-type {\n",
       "        vertical-align: middle;\n",
       "    }\n",
       "\n",
       "    .dataframe tbody tr th {\n",
       "        vertical-align: top;\n",
       "    }\n",
       "\n",
       "    .dataframe thead th {\n",
       "        text-align: right;\n",
       "    }\n",
       "</style>\n",
       "<table border=\"1\" class=\"dataframe\">\n",
       "  <thead>\n",
       "    <tr style=\"text-align: right;\">\n",
       "      <th></th>\n",
       "      <th>InvoiceNo</th>\n",
       "      <th>StockCode</th>\n",
       "      <th>Description</th>\n",
       "      <th>Quantity</th>\n",
       "      <th>InvoiceDate</th>\n",
       "      <th>UnitPrice</th>\n",
       "      <th>CustomerID</th>\n",
       "      <th>Country</th>\n",
       "    </tr>\n",
       "  </thead>\n",
       "  <tbody>\n",
       "    <tr>\n",
       "      <th>0</th>\n",
       "      <td>536365</td>\n",
       "      <td>85123A</td>\n",
       "      <td>WHITE HANGING HEART T-LIGHT HOLDER</td>\n",
       "      <td>6</td>\n",
       "      <td>12/1/2010 8:26</td>\n",
       "      <td>2.55</td>\n",
       "      <td>17850.0</td>\n",
       "      <td>United Kingdom</td>\n",
       "    </tr>\n",
       "    <tr>\n",
       "      <th>1</th>\n",
       "      <td>536365</td>\n",
       "      <td>71053</td>\n",
       "      <td>WHITE METAL LANTERN</td>\n",
       "      <td>6</td>\n",
       "      <td>12/1/2010 8:26</td>\n",
       "      <td>3.39</td>\n",
       "      <td>17850.0</td>\n",
       "      <td>United Kingdom</td>\n",
       "    </tr>\n",
       "    <tr>\n",
       "      <th>2</th>\n",
       "      <td>536365</td>\n",
       "      <td>84406B</td>\n",
       "      <td>CREAM CUPID HEARTS COAT HANGER</td>\n",
       "      <td>8</td>\n",
       "      <td>12/1/2010 8:26</td>\n",
       "      <td>2.75</td>\n",
       "      <td>17850.0</td>\n",
       "      <td>United Kingdom</td>\n",
       "    </tr>\n",
       "    <tr>\n",
       "      <th>3</th>\n",
       "      <td>536365</td>\n",
       "      <td>84029G</td>\n",
       "      <td>KNITTED UNION FLAG HOT WATER BOTTLE</td>\n",
       "      <td>6</td>\n",
       "      <td>12/1/2010 8:26</td>\n",
       "      <td>3.39</td>\n",
       "      <td>17850.0</td>\n",
       "      <td>United Kingdom</td>\n",
       "    </tr>\n",
       "    <tr>\n",
       "      <th>4</th>\n",
       "      <td>536365</td>\n",
       "      <td>84029E</td>\n",
       "      <td>RED WOOLLY HOTTIE WHITE HEART.</td>\n",
       "      <td>6</td>\n",
       "      <td>12/1/2010 8:26</td>\n",
       "      <td>3.39</td>\n",
       "      <td>17850.0</td>\n",
       "      <td>United Kingdom</td>\n",
       "    </tr>\n",
       "  </tbody>\n",
       "</table>\n",
       "</div>"
      ],
      "text/plain": [
       "  InvoiceNo StockCode                          Description  Quantity  \\\n",
       "0    536365    85123A   WHITE HANGING HEART T-LIGHT HOLDER         6   \n",
       "1    536365     71053                  WHITE METAL LANTERN         6   \n",
       "2    536365    84406B       CREAM CUPID HEARTS COAT HANGER         8   \n",
       "3    536365    84029G  KNITTED UNION FLAG HOT WATER BOTTLE         6   \n",
       "4    536365    84029E       RED WOOLLY HOTTIE WHITE HEART.         6   \n",
       "\n",
       "      InvoiceDate  UnitPrice  CustomerID         Country  \n",
       "0  12/1/2010 8:26       2.55     17850.0  United Kingdom  \n",
       "1  12/1/2010 8:26       3.39     17850.0  United Kingdom  \n",
       "2  12/1/2010 8:26       2.75     17850.0  United Kingdom  \n",
       "3  12/1/2010 8:26       3.39     17850.0  United Kingdom  \n",
       "4  12/1/2010 8:26       3.39     17850.0  United Kingdom  "
      ]
     },
     "execution_count": 2,
     "metadata": {},
     "output_type": "execute_result"
    }
   ],
   "source": [
    "df = pd.read_csv('data.csv', encoding='latin1')\n",
    "df.head()"
   ]
  },
  {
   "cell_type": "code",
   "execution_count": 3,
   "id": "557d9beb-dcd1-4d65-b671-d4c3adb41714",
   "metadata": {},
   "outputs": [
    {
     "data": {
      "text/plain": [
       "Index(['InvoiceNo', 'StockCode', 'Description', 'Quantity', 'InvoiceDate',\n",
       "       'UnitPrice', 'CustomerID', 'Country'],\n",
       "      dtype='object')"
      ]
     },
     "execution_count": 3,
     "metadata": {},
     "output_type": "execute_result"
    }
   ],
   "source": [
    "df.columns"
   ]
  },
  {
   "cell_type": "markdown",
   "id": "919f1267-ee25-4901-a64e-2cd2b8b0a858",
   "metadata": {},
   "source": [
    "---------------------------------------------------------------------------------------------"
   ]
  },
  {
   "cell_type": "markdown",
   "id": "f334adc4-3751-468c-9eb2-dbae0b8ae0a1",
   "metadata": {},
   "source": [
    "## - basic data cleaning (Exlore the data to find the missing and the duplicated )"
   ]
  },
  {
   "cell_type": "code",
   "execution_count": 4,
   "id": "94c1e6ed-b380-4595-a405-15db261ae73d",
   "metadata": {},
   "outputs": [
    {
     "name": "stdout",
     "output_type": "stream",
     "text": [
      "<class 'pandas.core.frame.DataFrame'>\n",
      "RangeIndex: 541909 entries, 0 to 541908\n",
      "Data columns (total 8 columns):\n",
      " #   Column       Non-Null Count   Dtype  \n",
      "---  ------       --------------   -----  \n",
      " 0   InvoiceNo    541909 non-null  object \n",
      " 1   StockCode    541909 non-null  object \n",
      " 2   Description  540455 non-null  object \n",
      " 3   Quantity     541909 non-null  int64  \n",
      " 4   InvoiceDate  541909 non-null  object \n",
      " 5   UnitPrice    541909 non-null  float64\n",
      " 6   CustomerID   406829 non-null  float64\n",
      " 7   Country      541909 non-null  object \n",
      "dtypes: float64(2), int64(1), object(5)\n",
      "memory usage: 33.1+ MB\n"
     ]
    }
   ],
   "source": [
    "df.info()"
   ]
  },
  {
   "cell_type": "code",
   "execution_count": 5,
   "id": "6b332add-f8e7-4763-8635-a6b1a7868816",
   "metadata": {},
   "outputs": [
    {
     "data": {
      "text/plain": [
       "InvoiceNo           0\n",
       "StockCode           0\n",
       "Description      1454\n",
       "Quantity            0\n",
       "InvoiceDate         0\n",
       "UnitPrice           0\n",
       "CustomerID     135080\n",
       "Country             0\n",
       "dtype: int64"
      ]
     },
     "execution_count": 5,
     "metadata": {},
     "output_type": "execute_result"
    }
   ],
   "source": [
    "df.isnull().sum()"
   ]
  },
  {
   "cell_type": "code",
   "execution_count": 6,
   "id": "ef523c39-14d1-4455-be1c-7d1302ee1c82",
   "metadata": {},
   "outputs": [
    {
     "data": {
      "text/plain": [
       "5268"
      ]
     },
     "execution_count": 6,
     "metadata": {},
     "output_type": "execute_result"
    }
   ],
   "source": [
    "df.duplicated().sum()"
   ]
  },
  {
   "cell_type": "code",
   "execution_count": 7,
   "id": "55a88e4f-1c28-4630-82b6-84455b519e0b",
   "metadata": {},
   "outputs": [],
   "source": [
    "df.drop_duplicates(inplace=True)\n"
   ]
  },
  {
   "cell_type": "code",
   "execution_count": 8,
   "id": "a303be6d-fdcc-4f91-b950-991a3c6d7618",
   "metadata": {},
   "outputs": [
    {
     "data": {
      "text/html": [
       "<div>\n",
       "<style scoped>\n",
       "    .dataframe tbody tr th:only-of-type {\n",
       "        vertical-align: middle;\n",
       "    }\n",
       "\n",
       "    .dataframe tbody tr th {\n",
       "        vertical-align: top;\n",
       "    }\n",
       "\n",
       "    .dataframe thead th {\n",
       "        text-align: right;\n",
       "    }\n",
       "</style>\n",
       "<table border=\"1\" class=\"dataframe\">\n",
       "  <thead>\n",
       "    <tr style=\"text-align: right;\">\n",
       "      <th></th>\n",
       "      <th>Quantity</th>\n",
       "      <th>UnitPrice</th>\n",
       "      <th>CustomerID</th>\n",
       "    </tr>\n",
       "  </thead>\n",
       "  <tbody>\n",
       "    <tr>\n",
       "      <th>count</th>\n",
       "      <td>536641.000000</td>\n",
       "      <td>536641.000000</td>\n",
       "      <td>401604.000000</td>\n",
       "    </tr>\n",
       "    <tr>\n",
       "      <th>mean</th>\n",
       "      <td>9.620029</td>\n",
       "      <td>4.632656</td>\n",
       "      <td>15281.160818</td>\n",
       "    </tr>\n",
       "    <tr>\n",
       "      <th>std</th>\n",
       "      <td>219.130156</td>\n",
       "      <td>97.233118</td>\n",
       "      <td>1714.006089</td>\n",
       "    </tr>\n",
       "    <tr>\n",
       "      <th>min</th>\n",
       "      <td>-80995.000000</td>\n",
       "      <td>-11062.060000</td>\n",
       "      <td>12346.000000</td>\n",
       "    </tr>\n",
       "    <tr>\n",
       "      <th>25%</th>\n",
       "      <td>1.000000</td>\n",
       "      <td>1.250000</td>\n",
       "      <td>13939.000000</td>\n",
       "    </tr>\n",
       "    <tr>\n",
       "      <th>50%</th>\n",
       "      <td>3.000000</td>\n",
       "      <td>2.080000</td>\n",
       "      <td>15145.000000</td>\n",
       "    </tr>\n",
       "    <tr>\n",
       "      <th>75%</th>\n",
       "      <td>10.000000</td>\n",
       "      <td>4.130000</td>\n",
       "      <td>16784.000000</td>\n",
       "    </tr>\n",
       "    <tr>\n",
       "      <th>max</th>\n",
       "      <td>80995.000000</td>\n",
       "      <td>38970.000000</td>\n",
       "      <td>18287.000000</td>\n",
       "    </tr>\n",
       "  </tbody>\n",
       "</table>\n",
       "</div>"
      ],
      "text/plain": [
       "            Quantity      UnitPrice     CustomerID\n",
       "count  536641.000000  536641.000000  401604.000000\n",
       "mean        9.620029       4.632656   15281.160818\n",
       "std       219.130156      97.233118    1714.006089\n",
       "min    -80995.000000  -11062.060000   12346.000000\n",
       "25%         1.000000       1.250000   13939.000000\n",
       "50%         3.000000       2.080000   15145.000000\n",
       "75%        10.000000       4.130000   16784.000000\n",
       "max     80995.000000   38970.000000   18287.000000"
      ]
     },
     "execution_count": 8,
     "metadata": {},
     "output_type": "execute_result"
    }
   ],
   "source": [
    "df.describe()"
   ]
  },
  {
   "cell_type": "markdown",
   "id": "9cc1e3f4-fea5-4337-a563-19c3ed675eeb",
   "metadata": {},
   "source": [
    " بعض القيم سالبة في الكميات و حسب وصف الداتا في الموقع هذا يعني اما العميل ارجع البضاعة بعد الشراء ( مرتجعات)  او اخطاء \n",
    "\n",
    "ولكن القيم السالبة في السعر غير منطقية فالسعر يجب ان يكون دائما موجب لهذا يجب فحص القيم السالبة لفهمها "
   ]
  },
  {
   "cell_type": "code",
   "execution_count": 9,
   "id": "1142b02d-2b47-47b6-8d5a-80d754ab8559",
   "metadata": {},
   "outputs": [
    {
     "name": "stdout",
     "output_type": "stream",
     "text": [
      "عدد عمليات المرتجعات: 10587\n",
      "عدد السطور بأسعار سالبة: 2\n"
     ]
    },
    {
     "data": {
      "text/html": [
       "<div>\n",
       "<style scoped>\n",
       "    .dataframe tbody tr th:only-of-type {\n",
       "        vertical-align: middle;\n",
       "    }\n",
       "\n",
       "    .dataframe tbody tr th {\n",
       "        vertical-align: top;\n",
       "    }\n",
       "\n",
       "    .dataframe thead th {\n",
       "        text-align: right;\n",
       "    }\n",
       "</style>\n",
       "<table border=\"1\" class=\"dataframe\">\n",
       "  <thead>\n",
       "    <tr style=\"text-align: right;\">\n",
       "      <th></th>\n",
       "      <th>InvoiceNo</th>\n",
       "      <th>StockCode</th>\n",
       "      <th>Description</th>\n",
       "      <th>Quantity</th>\n",
       "      <th>InvoiceDate</th>\n",
       "      <th>UnitPrice</th>\n",
       "      <th>CustomerID</th>\n",
       "      <th>Country</th>\n",
       "    </tr>\n",
       "  </thead>\n",
       "  <tbody>\n",
       "    <tr>\n",
       "      <th>299983</th>\n",
       "      <td>A563186</td>\n",
       "      <td>B</td>\n",
       "      <td>Adjust bad debt</td>\n",
       "      <td>1</td>\n",
       "      <td>8/12/2011 14:51</td>\n",
       "      <td>-11062.06</td>\n",
       "      <td>NaN</td>\n",
       "      <td>United Kingdom</td>\n",
       "    </tr>\n",
       "    <tr>\n",
       "      <th>299984</th>\n",
       "      <td>A563187</td>\n",
       "      <td>B</td>\n",
       "      <td>Adjust bad debt</td>\n",
       "      <td>1</td>\n",
       "      <td>8/12/2011 14:52</td>\n",
       "      <td>-11062.06</td>\n",
       "      <td>NaN</td>\n",
       "      <td>United Kingdom</td>\n",
       "    </tr>\n",
       "  </tbody>\n",
       "</table>\n",
       "</div>"
      ],
      "text/plain": [
       "       InvoiceNo StockCode      Description  Quantity      InvoiceDate  \\\n",
       "299983   A563186         B  Adjust bad debt         1  8/12/2011 14:51   \n",
       "299984   A563187         B  Adjust bad debt         1  8/12/2011 14:52   \n",
       "\n",
       "        UnitPrice  CustomerID         Country  \n",
       "299983  -11062.06         NaN  United Kingdom  \n",
       "299984  -11062.06         NaN  United Kingdom  "
      ]
     },
     "execution_count": 9,
     "metadata": {},
     "output_type": "execute_result"
    }
   ],
   "source": [
    "# كمية مرتجعات سالبة \n",
    "returns_df = df[df['Quantity'] < 0]\n",
    "print(f\"عدد عمليات المرتجعات: {returns_df.shape[0]}\")\n",
    "\n",
    "# أسعار سالبة \n",
    "negative_price = df[df['UnitPrice'] < 0]\n",
    "print(f\"عدد السطور بأسعار سالبة: {negative_price.shape[0]}\")\n",
    "negative_price.head()\n"
   ]
  },
  {
   "cell_type": "markdown",
   "id": "c891cca1-3476-4ba2-a4a2-e0d36f016e93",
   "metadata": {},
   "source": [
    "يتضح ان التسويات الداخلية للديون لا تخص اي عميل و ايضا ليست مبيعات و ليست مفيدة في اي تحليل .. لهذا سيتم حذفها "
   ]
  },
  {
   "cell_type": "code",
   "execution_count": 10,
   "id": "7ee4eaba-c3dc-48ac-a6a8-3379f004673e",
   "metadata": {},
   "outputs": [
    {
     "data": {
      "text/html": [
       "<div>\n",
       "<style scoped>\n",
       "    .dataframe tbody tr th:only-of-type {\n",
       "        vertical-align: middle;\n",
       "    }\n",
       "\n",
       "    .dataframe tbody tr th {\n",
       "        vertical-align: top;\n",
       "    }\n",
       "\n",
       "    .dataframe thead th {\n",
       "        text-align: right;\n",
       "    }\n",
       "</style>\n",
       "<table border=\"1\" class=\"dataframe\">\n",
       "  <thead>\n",
       "    <tr style=\"text-align: right;\">\n",
       "      <th></th>\n",
       "      <th>InvoiceNo</th>\n",
       "      <th>StockCode</th>\n",
       "      <th>Description</th>\n",
       "      <th>Quantity</th>\n",
       "      <th>InvoiceDate</th>\n",
       "      <th>UnitPrice</th>\n",
       "      <th>CustomerID</th>\n",
       "      <th>Country</th>\n",
       "    </tr>\n",
       "  </thead>\n",
       "  <tbody>\n",
       "  </tbody>\n",
       "</table>\n",
       "</div>"
      ],
      "text/plain": [
       "Empty DataFrame\n",
       "Columns: [InvoiceNo, StockCode, Description, Quantity, InvoiceDate, UnitPrice, CustomerID, Country]\n",
       "Index: []"
      ]
     },
     "execution_count": 10,
     "metadata": {},
     "output_type": "execute_result"
    }
   ],
   "source": [
    "df.drop(df[df['UnitPrice'] < 0].index, inplace=True)\n",
    "df[df['UnitPrice'] < 0]"
   ]
  },
  {
   "cell_type": "code",
   "execution_count": 11,
   "id": "4d345779-1cb1-4443-8770-a20084857c84",
   "metadata": {},
   "outputs": [
    {
     "name": "stdout",
     "output_type": "stream",
     "text": [
      "عدد السطور بسعر 0: 2510\n",
      "عدد السطور بكمية 0: 0\n"
     ]
    }
   ],
   "source": [
    "# عدد السطور اللي فيها سعر 0\n",
    "print(f\"عدد السطور بسعر 0: {df[df['UnitPrice'] == 0].shape[0]}\")\n",
    "\n",
    "# عدد السطور بكمية 0\n",
    "print(f\"عدد السطور بكمية 0: {df[df['Quantity'] == 0].shape[0]}\")\n"
   ]
  },
  {
   "cell_type": "markdown",
   "id": "5d2239a6-8727-4a58-bd70-39cd793e7ab9",
   "metadata": {},
   "source": [
    "كل الاسطر بقيمة صفر او سالبة غير مفيدة لانها اخطاءاو عينات او غيرها وليس مبيعات حقيقية سنحذفها .."
   ]
  },
  {
   "cell_type": "code",
   "execution_count": 12,
   "id": "ac32e7b3-f626-42a6-8b08-9f0bfe87222a",
   "metadata": {},
   "outputs": [],
   "source": [
    "\n",
    "df = df[df['UnitPrice'] > 0]\n",
    "df = df[df['Quantity'] > 0]"
   ]
  },
  {
   "cell_type": "code",
   "execution_count": 13,
   "id": "0bdd0d21-6a91-4248-abdc-b9e89237dc90",
   "metadata": {},
   "outputs": [
    {
     "data": {
      "text/plain": [
       "InvoiceNo           0\n",
       "StockCode           0\n",
       "Description         0\n",
       "Quantity            0\n",
       "InvoiceDate         0\n",
       "UnitPrice           0\n",
       "CustomerID     132186\n",
       "Country             0\n",
       "dtype: int64"
      ]
     },
     "execution_count": 13,
     "metadata": {},
     "output_type": "execute_result"
    }
   ],
   "source": [
    "df.isnull().sum()"
   ]
  },
  {
   "cell_type": "code",
   "execution_count": 14,
   "id": "8aabe097-898e-4d49-89e1-2030f110ccda",
   "metadata": {},
   "outputs": [],
   "source": [
    "df=df.dropna()"
   ]
  },
  {
   "cell_type": "code",
   "execution_count": 15,
   "id": "d6688988-e5cd-4380-acda-76dc893744ea",
   "metadata": {},
   "outputs": [
    {
     "data": {
      "text/plain": [
       "InvoiceNo      0\n",
       "StockCode      0\n",
       "Description    0\n",
       "Quantity       0\n",
       "InvoiceDate    0\n",
       "UnitPrice      0\n",
       "CustomerID     0\n",
       "Country        0\n",
       "dtype: int64"
      ]
     },
     "execution_count": 15,
     "metadata": {},
     "output_type": "execute_result"
    }
   ],
   "source": [
    "df.isna().sum()"
   ]
  },
  {
   "cell_type": "code",
   "execution_count": 16,
   "id": "7569de42-3f6f-4d44-b92c-e729b616a449",
   "metadata": {},
   "outputs": [
    {
     "data": {
      "text/html": [
       "<div>\n",
       "<style scoped>\n",
       "    .dataframe tbody tr th:only-of-type {\n",
       "        vertical-align: middle;\n",
       "    }\n",
       "\n",
       "    .dataframe tbody tr th {\n",
       "        vertical-align: top;\n",
       "    }\n",
       "\n",
       "    .dataframe thead th {\n",
       "        text-align: right;\n",
       "    }\n",
       "</style>\n",
       "<table border=\"1\" class=\"dataframe\">\n",
       "  <thead>\n",
       "    <tr style=\"text-align: right;\">\n",
       "      <th></th>\n",
       "      <th>Quantity</th>\n",
       "      <th>UnitPrice</th>\n",
       "      <th>CustomerID</th>\n",
       "    </tr>\n",
       "  </thead>\n",
       "  <tbody>\n",
       "    <tr>\n",
       "      <th>count</th>\n",
       "      <td>392692.000000</td>\n",
       "      <td>392692.000000</td>\n",
       "      <td>392692.000000</td>\n",
       "    </tr>\n",
       "    <tr>\n",
       "      <th>mean</th>\n",
       "      <td>13.119702</td>\n",
       "      <td>3.125914</td>\n",
       "      <td>15287.843865</td>\n",
       "    </tr>\n",
       "    <tr>\n",
       "      <th>std</th>\n",
       "      <td>180.492832</td>\n",
       "      <td>22.241836</td>\n",
       "      <td>1713.539549</td>\n",
       "    </tr>\n",
       "    <tr>\n",
       "      <th>min</th>\n",
       "      <td>1.000000</td>\n",
       "      <td>0.001000</td>\n",
       "      <td>12346.000000</td>\n",
       "    </tr>\n",
       "    <tr>\n",
       "      <th>25%</th>\n",
       "      <td>2.000000</td>\n",
       "      <td>1.250000</td>\n",
       "      <td>13955.000000</td>\n",
       "    </tr>\n",
       "    <tr>\n",
       "      <th>50%</th>\n",
       "      <td>6.000000</td>\n",
       "      <td>1.950000</td>\n",
       "      <td>15150.000000</td>\n",
       "    </tr>\n",
       "    <tr>\n",
       "      <th>75%</th>\n",
       "      <td>12.000000</td>\n",
       "      <td>3.750000</td>\n",
       "      <td>16791.000000</td>\n",
       "    </tr>\n",
       "    <tr>\n",
       "      <th>max</th>\n",
       "      <td>80995.000000</td>\n",
       "      <td>8142.750000</td>\n",
       "      <td>18287.000000</td>\n",
       "    </tr>\n",
       "  </tbody>\n",
       "</table>\n",
       "</div>"
      ],
      "text/plain": [
       "            Quantity      UnitPrice     CustomerID\n",
       "count  392692.000000  392692.000000  392692.000000\n",
       "mean       13.119702       3.125914   15287.843865\n",
       "std       180.492832      22.241836    1713.539549\n",
       "min         1.000000       0.001000   12346.000000\n",
       "25%         2.000000       1.250000   13955.000000\n",
       "50%         6.000000       1.950000   15150.000000\n",
       "75%        12.000000       3.750000   16791.000000\n",
       "max     80995.000000    8142.750000   18287.000000"
      ]
     },
     "execution_count": 16,
     "metadata": {},
     "output_type": "execute_result"
    }
   ],
   "source": [
    "df.describe()"
   ]
  },
  {
   "cell_type": "markdown",
   "id": "bd405fa7-fda7-4044-a087-4433fa1a02ed",
   "metadata": {},
   "source": [
    "no negative or zeros and the data is ready "
   ]
  },
  {
   "cell_type": "code",
   "execution_count": 17,
   "id": "6e693c93-b034-496e-a765-5afddc244b3c",
   "metadata": {},
   "outputs": [
    {
     "data": {
      "text/html": [
       "<div>\n",
       "<style scoped>\n",
       "    .dataframe tbody tr th:only-of-type {\n",
       "        vertical-align: middle;\n",
       "    }\n",
       "\n",
       "    .dataframe tbody tr th {\n",
       "        vertical-align: top;\n",
       "    }\n",
       "\n",
       "    .dataframe thead th {\n",
       "        text-align: right;\n",
       "    }\n",
       "</style>\n",
       "<table border=\"1\" class=\"dataframe\">\n",
       "  <thead>\n",
       "    <tr style=\"text-align: right;\">\n",
       "      <th></th>\n",
       "      <th>InvoiceNo</th>\n",
       "      <th>StockCode</th>\n",
       "      <th>Description</th>\n",
       "      <th>Quantity</th>\n",
       "      <th>InvoiceDate</th>\n",
       "      <th>UnitPrice</th>\n",
       "      <th>CustomerID</th>\n",
       "      <th>Country</th>\n",
       "    </tr>\n",
       "  </thead>\n",
       "  <tbody>\n",
       "    <tr>\n",
       "      <th>117054</th>\n",
       "      <td>546328</td>\n",
       "      <td>M</td>\n",
       "      <td>Manual</td>\n",
       "      <td>1</td>\n",
       "      <td>3/11/2011 10:19</td>\n",
       "      <td>1687.17</td>\n",
       "      <td>14911.0</td>\n",
       "      <td>EIRE</td>\n",
       "    </tr>\n",
       "    <tr>\n",
       "      <th>117055</th>\n",
       "      <td>546329</td>\n",
       "      <td>M</td>\n",
       "      <td>Manual</td>\n",
       "      <td>1</td>\n",
       "      <td>3/11/2011 10:22</td>\n",
       "      <td>1687.17</td>\n",
       "      <td>14911.0</td>\n",
       "      <td>EIRE</td>\n",
       "    </tr>\n",
       "    <tr>\n",
       "      <th>144826</th>\n",
       "      <td>548813</td>\n",
       "      <td>M</td>\n",
       "      <td>Manual</td>\n",
       "      <td>1</td>\n",
       "      <td>4/4/2011 13:03</td>\n",
       "      <td>2382.92</td>\n",
       "      <td>12744.0</td>\n",
       "      <td>Singapore</td>\n",
       "    </tr>\n",
       "    <tr>\n",
       "      <th>144828</th>\n",
       "      <td>548813</td>\n",
       "      <td>M</td>\n",
       "      <td>Manual</td>\n",
       "      <td>1</td>\n",
       "      <td>4/4/2011 13:03</td>\n",
       "      <td>1252.95</td>\n",
       "      <td>12744.0</td>\n",
       "      <td>Singapore</td>\n",
       "    </tr>\n",
       "    <tr>\n",
       "      <th>144829</th>\n",
       "      <td>548820</td>\n",
       "      <td>M</td>\n",
       "      <td>Manual</td>\n",
       "      <td>1</td>\n",
       "      <td>4/4/2011 13:04</td>\n",
       "      <td>2053.07</td>\n",
       "      <td>12744.0</td>\n",
       "      <td>Singapore</td>\n",
       "    </tr>\n",
       "    <tr>\n",
       "      <th>145831</th>\n",
       "      <td>548913</td>\n",
       "      <td>M</td>\n",
       "      <td>Manual</td>\n",
       "      <td>1</td>\n",
       "      <td>4/5/2011 9:45</td>\n",
       "      <td>1136.30</td>\n",
       "      <td>12669.0</td>\n",
       "      <td>France</td>\n",
       "    </tr>\n",
       "    <tr>\n",
       "      <th>150615</th>\n",
       "      <td>549468</td>\n",
       "      <td>M</td>\n",
       "      <td>Manual</td>\n",
       "      <td>1</td>\n",
       "      <td>4/8/2011 14:27</td>\n",
       "      <td>1867.86</td>\n",
       "      <td>17940.0</td>\n",
       "      <td>United Kingdom</td>\n",
       "    </tr>\n",
       "    <tr>\n",
       "      <th>173382</th>\n",
       "      <td>551697</td>\n",
       "      <td>POST</td>\n",
       "      <td>POSTAGE</td>\n",
       "      <td>1</td>\n",
       "      <td>5/3/2011 13:46</td>\n",
       "      <td>8142.75</td>\n",
       "      <td>16029.0</td>\n",
       "      <td>United Kingdom</td>\n",
       "    </tr>\n",
       "    <tr>\n",
       "      <th>200745</th>\n",
       "      <td>554155</td>\n",
       "      <td>M</td>\n",
       "      <td>Manual</td>\n",
       "      <td>1</td>\n",
       "      <td>5/23/2011 11:26</td>\n",
       "      <td>1241.98</td>\n",
       "      <td>12757.0</td>\n",
       "      <td>Portugal</td>\n",
       "    </tr>\n",
       "    <tr>\n",
       "      <th>201553</th>\n",
       "      <td>554301</td>\n",
       "      <td>M</td>\n",
       "      <td>Manual</td>\n",
       "      <td>1</td>\n",
       "      <td>5/23/2011 14:46</td>\n",
       "      <td>1241.98</td>\n",
       "      <td>12757.0</td>\n",
       "      <td>Portugal</td>\n",
       "    </tr>\n",
       "    <tr>\n",
       "      <th>297438</th>\n",
       "      <td>562946</td>\n",
       "      <td>M</td>\n",
       "      <td>Manual</td>\n",
       "      <td>1</td>\n",
       "      <td>8/11/2011 9:38</td>\n",
       "      <td>2500.00</td>\n",
       "      <td>15581.0</td>\n",
       "      <td>United Kingdom</td>\n",
       "    </tr>\n",
       "    <tr>\n",
       "      <th>343000</th>\n",
       "      <td>566927</td>\n",
       "      <td>M</td>\n",
       "      <td>Manual</td>\n",
       "      <td>1</td>\n",
       "      <td>9/15/2011 15:20</td>\n",
       "      <td>2033.10</td>\n",
       "      <td>17846.0</td>\n",
       "      <td>United Kingdom</td>\n",
       "    </tr>\n",
       "    <tr>\n",
       "      <th>374542</th>\n",
       "      <td>569382</td>\n",
       "      <td>M</td>\n",
       "      <td>Manual</td>\n",
       "      <td>1</td>\n",
       "      <td>10/3/2011 16:44</td>\n",
       "      <td>3155.95</td>\n",
       "      <td>15502.0</td>\n",
       "      <td>United Kingdom</td>\n",
       "    </tr>\n",
       "    <tr>\n",
       "      <th>406406</th>\n",
       "      <td>571751</td>\n",
       "      <td>M</td>\n",
       "      <td>Manual</td>\n",
       "      <td>1</td>\n",
       "      <td>10/19/2011 11:18</td>\n",
       "      <td>3949.32</td>\n",
       "      <td>12744.0</td>\n",
       "      <td>Singapore</td>\n",
       "    </tr>\n",
       "    <tr>\n",
       "      <th>406407</th>\n",
       "      <td>571751</td>\n",
       "      <td>M</td>\n",
       "      <td>Manual</td>\n",
       "      <td>1</td>\n",
       "      <td>10/19/2011 11:18</td>\n",
       "      <td>2118.74</td>\n",
       "      <td>12744.0</td>\n",
       "      <td>Singapore</td>\n",
       "    </tr>\n",
       "    <tr>\n",
       "      <th>422351</th>\n",
       "      <td>573077</td>\n",
       "      <td>M</td>\n",
       "      <td>Manual</td>\n",
       "      <td>1</td>\n",
       "      <td>10/27/2011 14:13</td>\n",
       "      <td>4161.06</td>\n",
       "      <td>12536.0</td>\n",
       "      <td>France</td>\n",
       "    </tr>\n",
       "    <tr>\n",
       "      <th>422376</th>\n",
       "      <td>573080</td>\n",
       "      <td>M</td>\n",
       "      <td>Manual</td>\n",
       "      <td>1</td>\n",
       "      <td>10/27/2011 14:20</td>\n",
       "      <td>4161.06</td>\n",
       "      <td>12536.0</td>\n",
       "      <td>France</td>\n",
       "    </tr>\n",
       "    <tr>\n",
       "      <th>467436</th>\n",
       "      <td>576339</td>\n",
       "      <td>DOT</td>\n",
       "      <td>DOTCOM POSTAGE</td>\n",
       "      <td>1</td>\n",
       "      <td>11/14/2011 15:27</td>\n",
       "      <td>1500.36</td>\n",
       "      <td>14096.0</td>\n",
       "      <td>United Kingdom</td>\n",
       "    </tr>\n",
       "    <tr>\n",
       "      <th>494728</th>\n",
       "      <td>578270</td>\n",
       "      <td>DOT</td>\n",
       "      <td>DOTCOM POSTAGE</td>\n",
       "      <td>1</td>\n",
       "      <td>11/23/2011 13:39</td>\n",
       "      <td>1270.06</td>\n",
       "      <td>14096.0</td>\n",
       "      <td>United Kingdom</td>\n",
       "    </tr>\n",
       "    <tr>\n",
       "      <th>508459</th>\n",
       "      <td>579196</td>\n",
       "      <td>DOT</td>\n",
       "      <td>DOTCOM POSTAGE</td>\n",
       "      <td>1</td>\n",
       "      <td>11/28/2011 15:54</td>\n",
       "      <td>1526.76</td>\n",
       "      <td>14096.0</td>\n",
       "      <td>United Kingdom</td>\n",
       "    </tr>\n",
       "    <tr>\n",
       "      <th>528082</th>\n",
       "      <td>580727</td>\n",
       "      <td>DOT</td>\n",
       "      <td>DOTCOM POSTAGE</td>\n",
       "      <td>1</td>\n",
       "      <td>12/5/2011 17:17</td>\n",
       "      <td>1599.26</td>\n",
       "      <td>14096.0</td>\n",
       "      <td>United Kingdom</td>\n",
       "    </tr>\n",
       "  </tbody>\n",
       "</table>\n",
       "</div>"
      ],
      "text/plain": [
       "       InvoiceNo StockCode     Description  Quantity       InvoiceDate  \\\n",
       "117054    546328         M          Manual         1   3/11/2011 10:19   \n",
       "117055    546329         M          Manual         1   3/11/2011 10:22   \n",
       "144826    548813         M          Manual         1    4/4/2011 13:03   \n",
       "144828    548813         M          Manual         1    4/4/2011 13:03   \n",
       "144829    548820         M          Manual         1    4/4/2011 13:04   \n",
       "145831    548913         M          Manual         1     4/5/2011 9:45   \n",
       "150615    549468         M          Manual         1    4/8/2011 14:27   \n",
       "173382    551697      POST         POSTAGE         1    5/3/2011 13:46   \n",
       "200745    554155         M          Manual         1   5/23/2011 11:26   \n",
       "201553    554301         M          Manual         1   5/23/2011 14:46   \n",
       "297438    562946         M          Manual         1    8/11/2011 9:38   \n",
       "343000    566927         M          Manual         1   9/15/2011 15:20   \n",
       "374542    569382         M          Manual         1   10/3/2011 16:44   \n",
       "406406    571751         M          Manual         1  10/19/2011 11:18   \n",
       "406407    571751         M          Manual         1  10/19/2011 11:18   \n",
       "422351    573077         M          Manual         1  10/27/2011 14:13   \n",
       "422376    573080         M          Manual         1  10/27/2011 14:20   \n",
       "467436    576339       DOT  DOTCOM POSTAGE         1  11/14/2011 15:27   \n",
       "494728    578270       DOT  DOTCOM POSTAGE         1  11/23/2011 13:39   \n",
       "508459    579196       DOT  DOTCOM POSTAGE         1  11/28/2011 15:54   \n",
       "528082    580727       DOT  DOTCOM POSTAGE         1   12/5/2011 17:17   \n",
       "\n",
       "        UnitPrice  CustomerID         Country  \n",
       "117054    1687.17     14911.0            EIRE  \n",
       "117055    1687.17     14911.0            EIRE  \n",
       "144826    2382.92     12744.0       Singapore  \n",
       "144828    1252.95     12744.0       Singapore  \n",
       "144829    2053.07     12744.0       Singapore  \n",
       "145831    1136.30     12669.0          France  \n",
       "150615    1867.86     17940.0  United Kingdom  \n",
       "173382    8142.75     16029.0  United Kingdom  \n",
       "200745    1241.98     12757.0        Portugal  \n",
       "201553    1241.98     12757.0        Portugal  \n",
       "297438    2500.00     15581.0  United Kingdom  \n",
       "343000    2033.10     17846.0  United Kingdom  \n",
       "374542    3155.95     15502.0  United Kingdom  \n",
       "406406    3949.32     12744.0       Singapore  \n",
       "406407    2118.74     12744.0       Singapore  \n",
       "422351    4161.06     12536.0          France  \n",
       "422376    4161.06     12536.0          France  \n",
       "467436    1500.36     14096.0  United Kingdom  \n",
       "494728    1270.06     14096.0  United Kingdom  \n",
       "508459    1526.76     14096.0  United Kingdom  \n",
       "528082    1599.26     14096.0  United Kingdom  "
      ]
     },
     "execution_count": 17,
     "metadata": {},
     "output_type": "execute_result"
    }
   ],
   "source": [
    "df[df['UnitPrice'] > 1000]  \n"
   ]
  },
  {
   "cell_type": "code",
   "execution_count": 18,
   "id": "5e26f51e-98c5-4b40-856f-6976d23adbb2",
   "metadata": {},
   "outputs": [
    {
     "data": {
      "text/html": [
       "<div>\n",
       "<style scoped>\n",
       "    .dataframe tbody tr th:only-of-type {\n",
       "        vertical-align: middle;\n",
       "    }\n",
       "\n",
       "    .dataframe tbody tr th {\n",
       "        vertical-align: top;\n",
       "    }\n",
       "\n",
       "    .dataframe thead th {\n",
       "        text-align: right;\n",
       "    }\n",
       "</style>\n",
       "<table border=\"1\" class=\"dataframe\">\n",
       "  <thead>\n",
       "    <tr style=\"text-align: right;\">\n",
       "      <th></th>\n",
       "      <th>InvoiceNo</th>\n",
       "      <th>StockCode</th>\n",
       "      <th>Description</th>\n",
       "      <th>Quantity</th>\n",
       "      <th>InvoiceDate</th>\n",
       "      <th>UnitPrice</th>\n",
       "      <th>CustomerID</th>\n",
       "      <th>Country</th>\n",
       "    </tr>\n",
       "  </thead>\n",
       "  <tbody>\n",
       "    <tr>\n",
       "      <th>4850</th>\n",
       "      <td>536809</td>\n",
       "      <td>84950</td>\n",
       "      <td>ASSORTED COLOUR T-LIGHT HOLDER</td>\n",
       "      <td>1824</td>\n",
       "      <td>12/2/2010 16:48</td>\n",
       "      <td>0.55</td>\n",
       "      <td>15299.0</td>\n",
       "      <td>United Kingdom</td>\n",
       "    </tr>\n",
       "    <tr>\n",
       "      <th>4945</th>\n",
       "      <td>536830</td>\n",
       "      <td>84077</td>\n",
       "      <td>WORLD WAR 2 GLIDERS ASSTD DESIGNS</td>\n",
       "      <td>2880</td>\n",
       "      <td>12/2/2010 17:38</td>\n",
       "      <td>0.18</td>\n",
       "      <td>16754.0</td>\n",
       "      <td>United Kingdom</td>\n",
       "    </tr>\n",
       "    <tr>\n",
       "      <th>4946</th>\n",
       "      <td>536830</td>\n",
       "      <td>21915</td>\n",
       "      <td>RED  HARMONICA IN BOX</td>\n",
       "      <td>1400</td>\n",
       "      <td>12/2/2010 17:38</td>\n",
       "      <td>1.06</td>\n",
       "      <td>16754.0</td>\n",
       "      <td>United Kingdom</td>\n",
       "    </tr>\n",
       "    <tr>\n",
       "      <th>6365</th>\n",
       "      <td>536890</td>\n",
       "      <td>17084R</td>\n",
       "      <td>ASSORTED INCENSE PACK</td>\n",
       "      <td>1440</td>\n",
       "      <td>12/3/2010 11:48</td>\n",
       "      <td>0.16</td>\n",
       "      <td>14156.0</td>\n",
       "      <td>EIRE</td>\n",
       "    </tr>\n",
       "    <tr>\n",
       "      <th>16435</th>\n",
       "      <td>537659</td>\n",
       "      <td>22189</td>\n",
       "      <td>CREAM HEART CARD HOLDER</td>\n",
       "      <td>1008</td>\n",
       "      <td>12/7/2010 16:43</td>\n",
       "      <td>2.31</td>\n",
       "      <td>18102.0</td>\n",
       "      <td>United Kingdom</td>\n",
       "    </tr>\n",
       "    <tr>\n",
       "      <th>...</th>\n",
       "      <td>...</td>\n",
       "      <td>...</td>\n",
       "      <td>...</td>\n",
       "      <td>...</td>\n",
       "      <td>...</td>\n",
       "      <td>...</td>\n",
       "      <td>...</td>\n",
       "      <td>...</td>\n",
       "    </tr>\n",
       "    <tr>\n",
       "      <th>533812</th>\n",
       "      <td>581115</td>\n",
       "      <td>22413</td>\n",
       "      <td>METAL SIGN TAKE IT OR LEAVE IT</td>\n",
       "      <td>1404</td>\n",
       "      <td>12/7/2011 12:20</td>\n",
       "      <td>2.75</td>\n",
       "      <td>15195.0</td>\n",
       "      <td>United Kingdom</td>\n",
       "    </tr>\n",
       "    <tr>\n",
       "      <th>534952</th>\n",
       "      <td>581175</td>\n",
       "      <td>23084</td>\n",
       "      <td>RABBIT NIGHT LIGHT</td>\n",
       "      <td>1440</td>\n",
       "      <td>12/7/2011 15:16</td>\n",
       "      <td>1.79</td>\n",
       "      <td>14646.0</td>\n",
       "      <td>Netherlands</td>\n",
       "    </tr>\n",
       "    <tr>\n",
       "      <th>540070</th>\n",
       "      <td>581458</td>\n",
       "      <td>22197</td>\n",
       "      <td>POPCORN HOLDER</td>\n",
       "      <td>1500</td>\n",
       "      <td>12/8/2011 18:45</td>\n",
       "      <td>0.72</td>\n",
       "      <td>17949.0</td>\n",
       "      <td>United Kingdom</td>\n",
       "    </tr>\n",
       "    <tr>\n",
       "      <th>540071</th>\n",
       "      <td>581459</td>\n",
       "      <td>22197</td>\n",
       "      <td>POPCORN HOLDER</td>\n",
       "      <td>1200</td>\n",
       "      <td>12/8/2011 18:46</td>\n",
       "      <td>0.72</td>\n",
       "      <td>17949.0</td>\n",
       "      <td>United Kingdom</td>\n",
       "    </tr>\n",
       "    <tr>\n",
       "      <th>540421</th>\n",
       "      <td>581483</td>\n",
       "      <td>23843</td>\n",
       "      <td>PAPER CRAFT , LITTLE BIRDIE</td>\n",
       "      <td>80995</td>\n",
       "      <td>12/9/2011 9:15</td>\n",
       "      <td>2.08</td>\n",
       "      <td>16446.0</td>\n",
       "      <td>United Kingdom</td>\n",
       "    </tr>\n",
       "  </tbody>\n",
       "</table>\n",
       "<p>104 rows × 8 columns</p>\n",
       "</div>"
      ],
      "text/plain": [
       "       InvoiceNo StockCode                        Description  Quantity  \\\n",
       "4850      536809     84950     ASSORTED COLOUR T-LIGHT HOLDER      1824   \n",
       "4945      536830     84077  WORLD WAR 2 GLIDERS ASSTD DESIGNS      2880   \n",
       "4946      536830     21915             RED  HARMONICA IN BOX       1400   \n",
       "6365      536890    17084R              ASSORTED INCENSE PACK      1440   \n",
       "16435     537659     22189            CREAM HEART CARD HOLDER      1008   \n",
       "...          ...       ...                                ...       ...   \n",
       "533812    581115     22413    METAL SIGN TAKE IT OR LEAVE IT       1404   \n",
       "534952    581175     23084                 RABBIT NIGHT LIGHT      1440   \n",
       "540070    581458     22197                     POPCORN HOLDER      1500   \n",
       "540071    581459     22197                     POPCORN HOLDER      1200   \n",
       "540421    581483     23843        PAPER CRAFT , LITTLE BIRDIE     80995   \n",
       "\n",
       "            InvoiceDate  UnitPrice  CustomerID         Country  \n",
       "4850    12/2/2010 16:48       0.55     15299.0  United Kingdom  \n",
       "4945    12/2/2010 17:38       0.18     16754.0  United Kingdom  \n",
       "4946    12/2/2010 17:38       1.06     16754.0  United Kingdom  \n",
       "6365    12/3/2010 11:48       0.16     14156.0            EIRE  \n",
       "16435   12/7/2010 16:43       2.31     18102.0  United Kingdom  \n",
       "...                 ...        ...         ...             ...  \n",
       "533812  12/7/2011 12:20       2.75     15195.0  United Kingdom  \n",
       "534952  12/7/2011 15:16       1.79     14646.0     Netherlands  \n",
       "540070  12/8/2011 18:45       0.72     17949.0  United Kingdom  \n",
       "540071  12/8/2011 18:46       0.72     17949.0  United Kingdom  \n",
       "540421   12/9/2011 9:15       2.08     16446.0  United Kingdom  \n",
       "\n",
       "[104 rows x 8 columns]"
      ]
     },
     "execution_count": 18,
     "metadata": {},
     "output_type": "execute_result"
    }
   ],
   "source": [
    "df[df['Quantity'] > 1000]  \n"
   ]
  },
  {
   "cell_type": "markdown",
   "id": "82906053-6a93-4755-9b63-ff2fd415e78b",
   "metadata": {},
   "source": [
    "---------------------------------------------------------------------------------------------"
   ]
  },
  {
   "cell_type": "markdown",
   "id": "8604523b-5e10-483d-911b-5ea91881eb63",
   "metadata": {},
   "source": [
    "# convert types into right type "
   ]
  },
  {
   "cell_type": "code",
   "execution_count": 19,
   "id": "ecc6d2d8-35ce-4ddd-a6c6-082a74c0fff9",
   "metadata": {},
   "outputs": [],
   "source": [
    "df['InvoiceDate'] = pd.to_datetime(df['InvoiceDate'])\n",
    "df['CustomerID'] = df['CustomerID'].astype(object)\n"
   ]
  },
  {
   "cell_type": "code",
   "execution_count": 20,
   "id": "d3d10c17-c97d-4fe1-a4c9-32f346ef9d6f",
   "metadata": {},
   "outputs": [],
   "source": [
    "#  add amount columns\n",
    "df['Amount'] = df['Quantity'] * df['UnitPrice']\n"
   ]
  },
  {
   "cell_type": "code",
   "execution_count": 21,
   "id": "42ff0ebb-dccc-4679-aff6-3e5095d4139c",
   "metadata": {},
   "outputs": [
    {
     "name": "stdout",
     "output_type": "stream",
     "text": [
      "<class 'pandas.core.frame.DataFrame'>\n",
      "Index: 392692 entries, 0 to 541908\n",
      "Data columns (total 9 columns):\n",
      " #   Column       Non-Null Count   Dtype         \n",
      "---  ------       --------------   -----         \n",
      " 0   InvoiceNo    392692 non-null  object        \n",
      " 1   StockCode    392692 non-null  object        \n",
      " 2   Description  392692 non-null  object        \n",
      " 3   Quantity     392692 non-null  int64         \n",
      " 4   InvoiceDate  392692 non-null  datetime64[ns]\n",
      " 5   UnitPrice    392692 non-null  float64       \n",
      " 6   CustomerID   392692 non-null  object        \n",
      " 7   Country      392692 non-null  object        \n",
      " 8   Amount       392692 non-null  float64       \n",
      "dtypes: datetime64[ns](1), float64(2), int64(1), object(5)\n",
      "memory usage: 30.0+ MB\n"
     ]
    }
   ],
   "source": [
    "df.info()"
   ]
  },
  {
   "cell_type": "code",
   "execution_count": 22,
   "id": "607a6b51-028c-4088-9a5c-1379599a5a3a",
   "metadata": {},
   "outputs": [],
   "source": [
    "df=df[['CustomerID','InvoiceNo','Amount','InvoiceDate']]"
   ]
  },
  {
   "cell_type": "code",
   "execution_count": 23,
   "id": "ab700fae-79b3-4a8e-86f5-25cf645cdd8e",
   "metadata": {},
   "outputs": [
    {
     "name": "stdout",
     "output_type": "stream",
     "text": [
      "<class 'pandas.core.frame.DataFrame'>\n",
      "Index: 392692 entries, 0 to 541908\n",
      "Data columns (total 4 columns):\n",
      " #   Column       Non-Null Count   Dtype         \n",
      "---  ------       --------------   -----         \n",
      " 0   CustomerID   392692 non-null  object        \n",
      " 1   InvoiceNo    392692 non-null  object        \n",
      " 2   Amount       392692 non-null  float64       \n",
      " 3   InvoiceDate  392692 non-null  datetime64[ns]\n",
      "dtypes: datetime64[ns](1), float64(1), object(2)\n",
      "memory usage: 15.0+ MB\n"
     ]
    }
   ],
   "source": [
    "df.info()"
   ]
  },
  {
   "cell_type": "markdown",
   "id": "fc06b838-1c60-457c-b3b0-e18204d4d19f",
   "metadata": {},
   "source": [
    "---------------------------------------------------------------------------------------------"
   ]
  },
  {
   "cell_type": "markdown",
   "id": "d7543c69-09f1-46bd-9046-46a9c492ec90",
   "metadata": {},
   "source": [
    "# تحليلات احصائية عامة \n"
   ]
  },
  {
   "cell_type": "code",
   "execution_count": 24,
   "id": "2c07cd07-0b36-44aa-b431-7a7987d18aed",
   "metadata": {},
   "outputs": [
    {
     "data": {
      "text/html": [
       "<div>\n",
       "<style scoped>\n",
       "    .dataframe tbody tr th:only-of-type {\n",
       "        vertical-align: middle;\n",
       "    }\n",
       "\n",
       "    .dataframe tbody tr th {\n",
       "        vertical-align: top;\n",
       "    }\n",
       "\n",
       "    .dataframe thead th {\n",
       "        text-align: right;\n",
       "    }\n",
       "</style>\n",
       "<table border=\"1\" class=\"dataframe\">\n",
       "  <thead>\n",
       "    <tr style=\"text-align: right;\">\n",
       "      <th></th>\n",
       "      <th>CustomerID</th>\n",
       "      <th>InvoiceNo</th>\n",
       "      <th>Amount</th>\n",
       "      <th>InvoiceDate</th>\n",
       "    </tr>\n",
       "  </thead>\n",
       "  <tbody>\n",
       "    <tr>\n",
       "      <th>0</th>\n",
       "      <td>17850.0</td>\n",
       "      <td>536365</td>\n",
       "      <td>15.30</td>\n",
       "      <td>2010-12-01 08:26:00</td>\n",
       "    </tr>\n",
       "    <tr>\n",
       "      <th>1</th>\n",
       "      <td>17850.0</td>\n",
       "      <td>536365</td>\n",
       "      <td>20.34</td>\n",
       "      <td>2010-12-01 08:26:00</td>\n",
       "    </tr>\n",
       "    <tr>\n",
       "      <th>2</th>\n",
       "      <td>17850.0</td>\n",
       "      <td>536365</td>\n",
       "      <td>22.00</td>\n",
       "      <td>2010-12-01 08:26:00</td>\n",
       "    </tr>\n",
       "    <tr>\n",
       "      <th>3</th>\n",
       "      <td>17850.0</td>\n",
       "      <td>536365</td>\n",
       "      <td>20.34</td>\n",
       "      <td>2010-12-01 08:26:00</td>\n",
       "    </tr>\n",
       "    <tr>\n",
       "      <th>4</th>\n",
       "      <td>17850.0</td>\n",
       "      <td>536365</td>\n",
       "      <td>20.34</td>\n",
       "      <td>2010-12-01 08:26:00</td>\n",
       "    </tr>\n",
       "  </tbody>\n",
       "</table>\n",
       "</div>"
      ],
      "text/plain": [
       "  CustomerID InvoiceNo  Amount         InvoiceDate\n",
       "0    17850.0    536365   15.30 2010-12-01 08:26:00\n",
       "1    17850.0    536365   20.34 2010-12-01 08:26:00\n",
       "2    17850.0    536365   22.00 2010-12-01 08:26:00\n",
       "3    17850.0    536365   20.34 2010-12-01 08:26:00\n",
       "4    17850.0    536365   20.34 2010-12-01 08:26:00"
      ]
     },
     "execution_count": 24,
     "metadata": {},
     "output_type": "execute_result"
    }
   ],
   "source": [
    "df.head()"
   ]
  },
  {
   "cell_type": "code",
   "execution_count": 25,
   "id": "20814028-e252-484e-9e7d-4c296ad638c6",
   "metadata": {},
   "outputs": [
    {
     "name": "stdout",
     "output_type": "stream",
     "text": [
      "كمية المبيعات في كل البلدان 8887208.894\n"
     ]
    }
   ],
   "source": [
    "print(f'كمية المبيعات في كل البلدان {df['Amount'].sum()}')"
   ]
  },
  {
   "cell_type": "code",
   "execution_count": 26,
   "id": "8faeaba1-4b7b-4548-97ee-9db3ce9c29e5",
   "metadata": {},
   "outputs": [
    {
     "data": {
      "image/png": "[encoded data removed]",
      "text/plain": [
       "<Figure size 640x480 with 1 Axes>"
      ]
     },
     "metadata": {},
     "output_type": "display_data"
    }
   ],
   "source": [
    "# توزيع الكميات\n",
    "sns.boxplot(x=df['Amount'])\n",
    "plt.show()\n",
    "\n"
   ]
  },
  {
   "cell_type": "markdown",
   "id": "7169bc52-c6be-4656-bb68-f125d5575d91",
   "metadata": {},
   "source": [
    "القيم الشاذة موجودة والموديل حساس للقيم الشاذة .. بالتالي اما ان نحذفها كلها او نحذف غير المنطقي منها + استخدام نموذج اقل حساسية للقيم الشاذة .. التالي هو عزلها لفحصها "
   ]
  },
  {
   "cell_type": "code",
   "execution_count": 27,
   "id": "2caf121d-6e3d-4db0-bb65-1222b67d6156",
   "metadata": {},
   "outputs": [
    {
     "name": "stdout",
     "output_type": "stream",
     "text": [
      "عدد الأوتلايرز في Amount: 31231\n"
     ]
    }
   ],
   "source": [
    "#  IQR\n",
    "Q1 = df['Amount'].quantile(0.25)\n",
    "Q3 = df['Amount'].quantile(0.75)\n",
    "IQR = Q3 - Q1\n",
    "\n",
    "outlier_condition = (df['Amount'] < (Q1 - 1.5 * IQR)) | (df['Amount'] > (Q3 + 1.5 * IQR))\n",
    "\n",
    "#  outlier عدد \n",
    "print(f\" outlier في Amount: {outlier_condition.sum()}\")\n"
   ]
  },
  {
   "cell_type": "code",
   "execution_count": 28,
   "id": "0b6d09f8-7a0e-4efe-9224-e3895a983347",
   "metadata": {},
   "outputs": [
    {
     "data": {
      "image/png": "[encoded data removed]",
      "text/plain": [
       "<Figure size 640x480 with 1 Axes>"
      ]
     },
     "metadata": {},
     "output_type": "display_data"
    }
   ],
   "source": [
    "# توزيع Amount \n",
    "sns.histplot(df['Amount'], bins=30)\n",
    "plt.show()"
   ]
  },
  {
   "cell_type": "markdown",
   "id": "bd3f4a24-5607-49c1-bdb8-09a1a8581b12",
   "metadata": {},
   "source": [
    "---------------------------------------------------------------------------------------------"
   ]
  },
  {
   "cell_type": "markdown",
   "id": "50a3aee1-d014-4d41-add9-70e935d6ed8a",
   "metadata": {},
   "source": [
    "# RFM analysis featuers "
   ]
  },
  {
   "cell_type": "markdown",
   "id": "7b6806ad-5872-4e1d-be65-549962a98179",
   "metadata": {},
   "source": [
    "What is RFM:-\n",
    "\n",
    "it is an analysis used by markteing companies to segemente the customer according to three featuers :\n",
    " -R- Recency : the last time you bought from the brand\n",
    " -F- Frequancy :how many time you bought from them \n",
    " -M- Monetary : how much money you spent on them \n",
    " \n",
    "\n",
    " "
   ]
  },
  {
   "cell_type": "code",
   "execution_count": 29,
   "id": "4a21b254-07a0-4ba5-91da-d2dc64928699",
   "metadata": {},
   "outputs": [
    {
     "data": {
      "text/plain": [
       "Index(['CustomerID', 'InvoiceNo', 'Amount', 'InvoiceDate'], dtype='object')"
      ]
     },
     "execution_count": 29,
     "metadata": {},
     "output_type": "execute_result"
    }
   ],
   "source": [
    "df.columns"
   ]
  },
  {
   "cell_type": "code",
   "execution_count": 30,
   "id": "28b80111-3fec-4986-a9df-e1373507d96e",
   "metadata": {},
   "outputs": [
    {
     "data": {
      "text/html": [
       "<div>\n",
       "<style scoped>\n",
       "    .dataframe tbody tr th:only-of-type {\n",
       "        vertical-align: middle;\n",
       "    }\n",
       "\n",
       "    .dataframe tbody tr th {\n",
       "        vertical-align: top;\n",
       "    }\n",
       "\n",
       "    .dataframe thead th {\n",
       "        text-align: right;\n",
       "    }\n",
       "</style>\n",
       "<table border=\"1\" class=\"dataframe\">\n",
       "  <thead>\n",
       "    <tr style=\"text-align: right;\">\n",
       "      <th></th>\n",
       "      <th>CustomerID</th>\n",
       "      <th>InvoiceDate</th>\n",
       "      <th>recency</th>\n",
       "    </tr>\n",
       "  </thead>\n",
       "  <tbody>\n",
       "    <tr>\n",
       "      <th>0</th>\n",
       "      <td>12346.0</td>\n",
       "      <td>2011-01-18 10:01:00</td>\n",
       "      <td>326</td>\n",
       "    </tr>\n",
       "    <tr>\n",
       "      <th>1</th>\n",
       "      <td>12347.0</td>\n",
       "      <td>2011-12-07 15:52:00</td>\n",
       "      <td>2</td>\n",
       "    </tr>\n",
       "    <tr>\n",
       "      <th>2</th>\n",
       "      <td>12348.0</td>\n",
       "      <td>2011-09-25 13:13:00</td>\n",
       "      <td>75</td>\n",
       "    </tr>\n",
       "    <tr>\n",
       "      <th>3</th>\n",
       "      <td>12349.0</td>\n",
       "      <td>2011-11-21 09:51:00</td>\n",
       "      <td>19</td>\n",
       "    </tr>\n",
       "    <tr>\n",
       "      <th>4</th>\n",
       "      <td>12350.0</td>\n",
       "      <td>2011-02-02 16:01:00</td>\n",
       "      <td>310</td>\n",
       "    </tr>\n",
       "  </tbody>\n",
       "</table>\n",
       "</div>"
      ],
      "text/plain": [
       "   CustomerID         InvoiceDate  recency\n",
       "0     12346.0 2011-01-18 10:01:00      326\n",
       "1     12347.0 2011-12-07 15:52:00        2\n",
       "2     12348.0 2011-09-25 13:13:00       75\n",
       "3     12349.0 2011-11-21 09:51:00       19\n",
       "4     12350.0 2011-02-02 16:01:00      310"
      ]
     },
     "execution_count": 30,
     "metadata": {},
     "output_type": "execute_result"
    }
   ],
   "source": [
    "#  -R- Recency : the last time you bought from the brand\n",
    "\n",
    "\n",
    "#  تاريخ آخر عملية شراء في الداتا كمرجع\n",
    "reference_date = df['InvoiceDate'].max() + pd.Timedelta(days=1)  # مثلاً اليوم التالي بعد آخر عملية\n",
    "\n",
    "# 2. نحسب آخر عملية لكل عميل\n",
    "recency = df.groupby('CustomerID')['InvoiceDate'].max().reset_index()\n",
    "\n",
    "# 3. نحسب Recency بالأيام\n",
    "recency['recency'] = (reference_date - recency['InvoiceDate']).dt.days\n",
    "\n",
    "recency.head()\n"
   ]
  },
  {
   "cell_type": "code",
   "execution_count": 31,
   "id": "8babd045-1a04-4b7b-aeb8-82b766a93def",
   "metadata": {},
   "outputs": [],
   "source": [
    "#  -F- Frequancy :how many time you bought from them \n",
    "frequancy = df.groupby('CustomerID')['InvoiceNo'].nunique().reset_index().rename(columns={'InvoiceNo':'frequancy'})\n"
   ]
  },
  {
   "cell_type": "code",
   "execution_count": 32,
   "id": "bd055547-6867-4f3e-91cc-ee6664328634",
   "metadata": {},
   "outputs": [],
   "source": [
    "# -M- Monetary : how much money you spent on them \n",
    "monetary = df.groupby('CustomerID')['Amount'].sum().reset_index().rename(columns={'Amount':'monetary'})"
   ]
  },
  {
   "cell_type": "code",
   "execution_count": 33,
   "id": "8382eae0-6854-4889-bfd3-3e0851b7be8b",
   "metadata": {},
   "outputs": [
    {
     "data": {
      "text/html": [
       "<div>\n",
       "<style scoped>\n",
       "    .dataframe tbody tr th:only-of-type {\n",
       "        vertical-align: middle;\n",
       "    }\n",
       "\n",
       "    .dataframe tbody tr th {\n",
       "        vertical-align: top;\n",
       "    }\n",
       "\n",
       "    .dataframe thead th {\n",
       "        text-align: right;\n",
       "    }\n",
       "</style>\n",
       "<table border=\"1\" class=\"dataframe\">\n",
       "  <thead>\n",
       "    <tr style=\"text-align: right;\">\n",
       "      <th></th>\n",
       "      <th>CustomerID</th>\n",
       "      <th>recency</th>\n",
       "      <th>frequancy</th>\n",
       "      <th>monetary</th>\n",
       "    </tr>\n",
       "  </thead>\n",
       "  <tbody>\n",
       "    <tr>\n",
       "      <th>0</th>\n",
       "      <td>12346.0</td>\n",
       "      <td>326</td>\n",
       "      <td>1</td>\n",
       "      <td>77183.60</td>\n",
       "    </tr>\n",
       "    <tr>\n",
       "      <th>1</th>\n",
       "      <td>12347.0</td>\n",
       "      <td>2</td>\n",
       "      <td>7</td>\n",
       "      <td>4310.00</td>\n",
       "    </tr>\n",
       "    <tr>\n",
       "      <th>2</th>\n",
       "      <td>12348.0</td>\n",
       "      <td>75</td>\n",
       "      <td>4</td>\n",
       "      <td>1797.24</td>\n",
       "    </tr>\n",
       "    <tr>\n",
       "      <th>3</th>\n",
       "      <td>12349.0</td>\n",
       "      <td>19</td>\n",
       "      <td>1</td>\n",
       "      <td>1757.55</td>\n",
       "    </tr>\n",
       "    <tr>\n",
       "      <th>4</th>\n",
       "      <td>12350.0</td>\n",
       "      <td>310</td>\n",
       "      <td>1</td>\n",
       "      <td>334.40</td>\n",
       "    </tr>\n",
       "  </tbody>\n",
       "</table>\n",
       "</div>"
      ],
      "text/plain": [
       "   CustomerID  recency  frequancy  monetary\n",
       "0     12346.0      326          1  77183.60\n",
       "1     12347.0        2          7   4310.00\n",
       "2     12348.0       75          4   1797.24\n",
       "3     12349.0       19          1   1757.55\n",
       "4     12350.0      310          1    334.40"
      ]
     },
     "execution_count": 33,
     "metadata": {},
     "output_type": "execute_result"
    }
   ],
   "source": [
    "rfm = recency[['CustomerID', 'recency']].merge(frequancy, on='CustomerID').merge(monetary, on='CustomerID')\n",
    "rfm.head()\n"
   ]
  },
  {
   "cell_type": "markdown",
   "id": "4bc1fc10-8560-4a84-b946-1641dd06f0be",
   "metadata": {},
   "source": [
    "---------------------------------------------------------------------------------------------"
   ]
  },
  {
   "cell_type": "markdown",
   "id": "36f6c641-ec80-4e41-ad59-2ec8073d325b",
   "metadata": {},
   "source": [
    "# log for the RFM featuers and then scaling "
   ]
  },
  {
   "cell_type": "code",
   "execution_count": 34,
   "id": "31288d5f-a6f4-476a-bfc5-04dc679736f1",
   "metadata": {},
   "outputs": [
    {
     "data": {
      "text/html": [
       "<div>\n",
       "<style scoped>\n",
       "    .dataframe tbody tr th:only-of-type {\n",
       "        vertical-align: middle;\n",
       "    }\n",
       "\n",
       "    .dataframe tbody tr th {\n",
       "        vertical-align: top;\n",
       "    }\n",
       "\n",
       "    .dataframe thead th {\n",
       "        text-align: right;\n",
       "    }\n",
       "</style>\n",
       "<table border=\"1\" class=\"dataframe\">\n",
       "  <thead>\n",
       "    <tr style=\"text-align: right;\">\n",
       "      <th></th>\n",
       "      <th>CustomerID</th>\n",
       "      <th>recency</th>\n",
       "      <th>frequancy</th>\n",
       "      <th>monetary</th>\n",
       "      <th>frequancy_log</th>\n",
       "      <th>monetary_log</th>\n",
       "      <th>recency_log</th>\n",
       "    </tr>\n",
       "  </thead>\n",
       "  <tbody>\n",
       "    <tr>\n",
       "      <th>count</th>\n",
       "      <td>4338.000000</td>\n",
       "      <td>4338.000000</td>\n",
       "      <td>4338.000000</td>\n",
       "      <td>4338.000000</td>\n",
       "      <td>4338.000000</td>\n",
       "      <td>4338.000000</td>\n",
       "      <td>4338.000000</td>\n",
       "    </tr>\n",
       "    <tr>\n",
       "      <th>mean</th>\n",
       "      <td>15300.408022</td>\n",
       "      <td>92.536422</td>\n",
       "      <td>4.272015</td>\n",
       "      <td>2048.688081</td>\n",
       "      <td>1.345582</td>\n",
       "      <td>6.588562</td>\n",
       "      <td>3.830734</td>\n",
       "    </tr>\n",
       "    <tr>\n",
       "      <th>std</th>\n",
       "      <td>1721.808492</td>\n",
       "      <td>100.014169</td>\n",
       "      <td>7.697998</td>\n",
       "      <td>8985.230220</td>\n",
       "      <td>0.683104</td>\n",
       "      <td>1.258438</td>\n",
       "      <td>1.340261</td>\n",
       "    </tr>\n",
       "    <tr>\n",
       "      <th>min</th>\n",
       "      <td>12346.000000</td>\n",
       "      <td>1.000000</td>\n",
       "      <td>1.000000</td>\n",
       "      <td>3.750000</td>\n",
       "      <td>0.693147</td>\n",
       "      <td>1.558145</td>\n",
       "      <td>0.693147</td>\n",
       "    </tr>\n",
       "    <tr>\n",
       "      <th>25%</th>\n",
       "      <td>13813.250000</td>\n",
       "      <td>18.000000</td>\n",
       "      <td>1.000000</td>\n",
       "      <td>306.482500</td>\n",
       "      <td>0.693147</td>\n",
       "      <td>5.728418</td>\n",
       "      <td>2.944439</td>\n",
       "    </tr>\n",
       "    <tr>\n",
       "      <th>50%</th>\n",
       "      <td>15299.500000</td>\n",
       "      <td>51.000000</td>\n",
       "      <td>2.000000</td>\n",
       "      <td>668.570000</td>\n",
       "      <td>1.098612</td>\n",
       "      <td>6.506636</td>\n",
       "      <td>3.951244</td>\n",
       "    </tr>\n",
       "    <tr>\n",
       "      <th>75%</th>\n",
       "      <td>16778.750000</td>\n",
       "      <td>142.000000</td>\n",
       "      <td>5.000000</td>\n",
       "      <td>1660.597500</td>\n",
       "      <td>1.791759</td>\n",
       "      <td>7.415535</td>\n",
       "      <td>4.962845</td>\n",
       "    </tr>\n",
       "    <tr>\n",
       "      <th>max</th>\n",
       "      <td>18287.000000</td>\n",
       "      <td>374.000000</td>\n",
       "      <td>209.000000</td>\n",
       "      <td>280206.020000</td>\n",
       "      <td>5.347108</td>\n",
       "      <td>12.543284</td>\n",
       "      <td>5.926926</td>\n",
       "    </tr>\n",
       "  </tbody>\n",
       "</table>\n",
       "</div>"
      ],
      "text/plain": [
       "         CustomerID      recency    frequancy       monetary  frequancy_log  \\\n",
       "count   4338.000000  4338.000000  4338.000000    4338.000000    4338.000000   \n",
       "mean   15300.408022    92.536422     4.272015    2048.688081       1.345582   \n",
       "std     1721.808492   100.014169     7.697998    8985.230220       0.683104   \n",
       "min    12346.000000     1.000000     1.000000       3.750000       0.693147   \n",
       "25%    13813.250000    18.000000     1.000000     306.482500       0.693147   \n",
       "50%    15299.500000    51.000000     2.000000     668.570000       1.098612   \n",
       "75%    16778.750000   142.000000     5.000000    1660.597500       1.791759   \n",
       "max    18287.000000   374.000000   209.000000  280206.020000       5.347108   \n",
       "\n",
       "       monetary_log  recency_log  \n",
       "count   4338.000000  4338.000000  \n",
       "mean       6.588562     3.830734  \n",
       "std        1.258438     1.340261  \n",
       "min        1.558145     0.693147  \n",
       "25%        5.728418     2.944439  \n",
       "50%        6.506636     3.951244  \n",
       "75%        7.415535     4.962845  \n",
       "max       12.543284     5.926926  "
      ]
     },
     "execution_count": 34,
     "metadata": {},
     "output_type": "execute_result"
    }
   ],
   "source": [
    "rfm['frequancy_log']= np.log1p(rfm['frequancy'])\n",
    "rfm['monetary_log']= np.log1p(rfm['monetary'])\n",
    "rfm['recency_log']= np.log1p(rfm['recency'])\n",
    "rfm.describe()"
   ]
  },
  {
   "cell_type": "code",
   "execution_count": 35,
   "id": "f6fffa6f-53af-4a16-92dc-c5e2e235a1e7",
   "metadata": {},
   "outputs": [
    {
     "data": {
      "text/plain": [
       "<Axes: xlabel='frequancy_log', ylabel='Count'>"
      ]
     },
     "execution_count": 35,
     "metadata": {},
     "output_type": "execute_result"
    },
    {
     "data": {
      "image/png": "[encoded data removed]",
      "text/plain": [
       "<Figure size 640x480 with 1 Axes>"
      ]
     },
     "metadata": {},
     "output_type": "display_data"
    }
   ],
   "source": [
    "sns.histplot(x=rfm['frequancy_log'], kde=True)"
   ]
  },
  {
   "cell_type": "code",
   "execution_count": 36,
   "id": "63c6ea15-b147-40da-8115-850a521a3988",
   "metadata": {},
   "outputs": [
    {
     "data": {
      "text/plain": [
       "<Axes: xlabel='monetary_log', ylabel='Count'>"
      ]
     },
     "execution_count": 36,
     "metadata": {},
     "output_type": "execute_result"
    },
    {
     "data": {
      "image/png": "[encoded data removed]",
      "text/plain": [
       "<Figure size 640x480 with 1 Axes>"
      ]
     },
     "metadata": {},
     "output_type": "display_data"
    }
   ],
   "source": [
    "sns.histplot(x=rfm['monetary_log'], kde=True)"
   ]
  },
  {
   "cell_type": "code",
   "execution_count": 37,
   "id": "c2f67fb5-12dd-470b-821e-fc425c0d02fa",
   "metadata": {},
   "outputs": [
    {
     "data": {
      "text/plain": [
       "<Axes: xlabel='recency_log', ylabel='Count'>"
      ]
     },
     "execution_count": 37,
     "metadata": {},
     "output_type": "execute_result"
    },
    {
     "data": {
      "image/png": "[encoded data removed]",
      "text/plain": [
       "<Figure size 640x480 with 1 Axes>"
      ]
     },
     "metadata": {},
     "output_type": "display_data"
    }
   ],
   "source": [
    "sns.histplot(x=rfm['recency_log'], kde=True)"
   ]
  },
  {
   "cell_type": "markdown",
   "id": "8df5fa26-d745-4063-9583-f3ae4d02bc2e",
   "metadata": {},
   "source": [
    "---------------------------------------------------------------------------------------------"
   ]
  },
  {
   "cell_type": "code",
   "execution_count": 38,
   "id": "14051fce-403e-496b-98d3-361e53061d48",
   "metadata": {},
   "outputs": [],
   "source": [
    "scaler= StandardScaler()\n",
    "rfm_scaled= scaler.fit_transform(rfm[['frequancy_log','monetary_log','recency_log']])"
   ]
  },
  {
   "cell_type": "markdown",
   "id": "57168120-bd2b-4f99-9e3b-17f35c093be1",
   "metadata": {},
   "source": [
    "---------------------------------------------------------------------------------------------"
   ]
  },
  {
   "cell_type": "markdown",
   "id": "246246ea-0d87-48f8-92f4-5311450a6a34",
   "metadata": {},
   "source": [
    "# بناء النموذج \n",
    "الخطوات الاولى حذف الاعمدة غير الضرورية ( الوصف ورقم المنتج والبلد)  و حذف القيم السالبة في الكميات ( المرتجعات ) وحذف العملاء بدون اسم ) و قياس توزيع البيات و العلاقات بين المتغيرات "
   ]
  },
  {
   "cell_type": "markdown",
   "id": "092ea9c8-6b01-4e40-a164-66a068c27228",
   "metadata": {},
   "source": [
    "---------------------------------------------------------------------------------------------"
   ]
  },
  {
   "cell_type": "code",
   "execution_count": 39,
   "id": "7c0a7134-e447-4897-a2fd-b765b9d33cf2",
   "metadata": {},
   "outputs": [],
   "source": [
    "from sklearn.cluster import KMeans\n",
    "from sklearn.metrics import silhouette_score\n",
    "import matplotlib.pyplot as plt\n"
   ]
  },
  {
   "cell_type": "code",
   "execution_count": 52,
   "id": "70bd586e-67ad-4bb4-8985-d26dda7a6486",
   "metadata": {},
   "outputs": [
    {
     "name": "stdout",
     "output_type": "stream",
     "text": [
      "K = 2 | Silhouette Score: 0.433\n",
      "K = 3 | Silhouette Score: 0.336\n",
      "K = 4 | Silhouette Score: 0.335\n",
      "K = 5 | Silhouette Score: 0.314\n",
      "K = 6 | Silhouette Score: 0.315\n",
      "K = 7 | Silhouette Score: 0.296\n",
      "K = 8 | Silhouette Score: 0.277\n",
      "K = 9 | Silhouette Score: 0.281\n",
      "K = 10 | Silhouette Score: 0.277\n"
     ]
    }
   ],
   "source": [
    "inertia = []\n",
    "silhouette_scores = []\n",
    "\n",
    "for k in range(1, 11):\n",
    "    kmean = KMeans(n_clusters=k, random_state=42)\n",
    "    kmean.fit(rfm_scaled)\n",
    "    inertia.append(kmean.inertia_)\n",
    "    \n",
    "    if k > 1:\n",
    "        labels = kmean.labels_\n",
    "        score = silhouette_score(rfm_scaled, labels)\n",
    "        silhouette_scores.append(score)\n",
    "        print(f'K = {k} | Silhouette Score: {score:.3f}')\n",
    "    else:\n",
    "        silhouette_scores.append(None)  # للتماشي مع شكل البيانات بالرسم لاحقًا\n",
    "\n"
   ]
  },
  {
   "cell_type": "code",
   "execution_count": 41,
   "id": "62dfe04b-7419-42f6-baad-0a7e80cd4684",
   "metadata": {},
   "outputs": [
    {
     "data": {
      "image/png": "[encoded data removed]",
      "text/plain": [
       "<Figure size 800x500 with 1 Axes>"
      ]
     },
     "metadata": {},
     "output_type": "display_data"
    }
   ],
   "source": [
    "# رسم Elbow Curve\n",
    "plt.figure(figsize=(8, 5))\n",
    "plt.plot(k_values, inertia, marker='o')\n",
    "plt.xlabel('Number of Clusters (k)')\n",
    "plt.ylabel('Inertia')\n",
    "plt.title('Elbow Method for Optimal k')\n",
    "plt.grid(True)\n",
    "plt.show()\n",
    "\n",
    "\n"
   ]
  },
  {
   "cell_type": "code",
   "execution_count": 42,
   "id": "73cbcb20-2840-41a7-8d4e-1dc03005ea09",
   "metadata": {},
   "outputs": [
    {
     "data": {
      "image/png": "[encoded data removed]",
      "text/plain": [
       "<Figure size 800x500 with 1 Axes>"
      ]
     },
     "metadata": {},
     "output_type": "display_data"
    }
   ],
   "source": [
    "# رسم منحنى Silhouette Score من K=2\n",
    "plt.figure(figsize=(8, 5))\n",
    "plt.plot(k_values[1:], silhouette_scores[1:], marker='s', color='green')\n",
    "plt.xlabel('Number of Clusters (k)')\n",
    "plt.ylabel('Silhouette Score')\n",
    "plt.title('Silhouette Score vs Number of Clusters')\n",
    "plt.grid(True)\n",
    "plt.show()"
   ]
  },
  {
   "cell_type": "markdown",
   "id": "0b1ad44b-6450-470b-9816-e0b594ec7584",
   "metadata": {},
   "source": [
    "---------------------------------------------------------------------------------------------"
   ]
  },
  {
   "cell_type": "markdown",
   "id": "84aa0e41-fd01-42d8-95b4-f7ff8d9ee4e5",
   "metadata": {},
   "source": [
    "# KMeans موديل التصنيف "
   ]
  },
  {
   "cell_type": "code",
   "execution_count": 43,
   "id": "33206b47-82fb-4d57-8c19-5135e3239c4b",
   "metadata": {},
   "outputs": [],
   "source": [
    "kmean = KMeans(n_clusters=4,random_state=42)\n",
    "labels= kmean.fit_predict(rfm_scaled)+1\n",
    "rfm['cluster']=labels "
   ]
  },
  {
   "cell_type": "code",
   "execution_count": 44,
   "id": "3c67b6f9-e877-4c74-aa20-b97f3ce34d6d",
   "metadata": {},
   "outputs": [
    {
     "data": {
      "text/html": [
       "<div>\n",
       "<style scoped>\n",
       "    .dataframe tbody tr th:only-of-type {\n",
       "        vertical-align: middle;\n",
       "    }\n",
       "\n",
       "    .dataframe tbody tr th {\n",
       "        vertical-align: top;\n",
       "    }\n",
       "\n",
       "    .dataframe thead th {\n",
       "        text-align: right;\n",
       "    }\n",
       "</style>\n",
       "<table border=\"1\" class=\"dataframe\">\n",
       "  <thead>\n",
       "    <tr style=\"text-align: right;\">\n",
       "      <th></th>\n",
       "      <th>CustomerID</th>\n",
       "      <th>recency</th>\n",
       "      <th>frequancy</th>\n",
       "      <th>monetary</th>\n",
       "      <th>frequancy_log</th>\n",
       "      <th>monetary_log</th>\n",
       "      <th>recency_log</th>\n",
       "      <th>cluster</th>\n",
       "    </tr>\n",
       "  </thead>\n",
       "  <tbody>\n",
       "    <tr>\n",
       "      <th>0</th>\n",
       "      <td>12346.0</td>\n",
       "      <td>326</td>\n",
       "      <td>1</td>\n",
       "      <td>77183.60</td>\n",
       "      <td>0.693147</td>\n",
       "      <td>11.253955</td>\n",
       "      <td>5.789960</td>\n",
       "      <td>3</td>\n",
       "    </tr>\n",
       "    <tr>\n",
       "      <th>1</th>\n",
       "      <td>12347.0</td>\n",
       "      <td>2</td>\n",
       "      <td>7</td>\n",
       "      <td>4310.00</td>\n",
       "      <td>2.079442</td>\n",
       "      <td>8.368925</td>\n",
       "      <td>1.098612</td>\n",
       "      <td>2</td>\n",
       "    </tr>\n",
       "    <tr>\n",
       "      <th>2</th>\n",
       "      <td>12348.0</td>\n",
       "      <td>75</td>\n",
       "      <td>4</td>\n",
       "      <td>1797.24</td>\n",
       "      <td>1.609438</td>\n",
       "      <td>7.494564</td>\n",
       "      <td>4.330733</td>\n",
       "      <td>3</td>\n",
       "    </tr>\n",
       "    <tr>\n",
       "      <th>3</th>\n",
       "      <td>12349.0</td>\n",
       "      <td>19</td>\n",
       "      <td>1</td>\n",
       "      <td>1757.55</td>\n",
       "      <td>0.693147</td>\n",
       "      <td>7.472245</td>\n",
       "      <td>2.995732</td>\n",
       "      <td>1</td>\n",
       "    </tr>\n",
       "    <tr>\n",
       "      <th>4</th>\n",
       "      <td>12350.0</td>\n",
       "      <td>310</td>\n",
       "      <td>1</td>\n",
       "      <td>334.40</td>\n",
       "      <td>0.693147</td>\n",
       "      <td>5.815324</td>\n",
       "      <td>5.739793</td>\n",
       "      <td>4</td>\n",
       "    </tr>\n",
       "  </tbody>\n",
       "</table>\n",
       "</div>"
      ],
      "text/plain": [
       "   CustomerID  recency  frequancy  monetary  frequancy_log  monetary_log  \\\n",
       "0     12346.0      326          1  77183.60       0.693147     11.253955   \n",
       "1     12347.0        2          7   4310.00       2.079442      8.368925   \n",
       "2     12348.0       75          4   1797.24       1.609438      7.494564   \n",
       "3     12349.0       19          1   1757.55       0.693147      7.472245   \n",
       "4     12350.0      310          1    334.40       0.693147      5.815324   \n",
       "\n",
       "   recency_log  cluster  \n",
       "0     5.789960        3  \n",
       "1     1.098612        2  \n",
       "2     4.330733        3  \n",
       "3     2.995732        1  \n",
       "4     5.739793        4  "
      ]
     },
     "execution_count": 44,
     "metadata": {},
     "output_type": "execute_result"
    }
   ],
   "source": [
    "rfm.head()"
   ]
  },
  {
   "cell_type": "code",
   "execution_count": 55,
   "id": "b9c02d33-3f2d-40f8-9045-3099fd6edcb6",
   "metadata": {},
   "outputs": [
    {
     "data": {
      "image/png": "[encoded data removed]",
      "text/plain": [
       "<Figure size 800x600 with 1 Axes>"
      ]
     },
     "metadata": {},
     "output_type": "display_data"
    }
   ],
   "source": [
    "plt.figure(figsize=(8, 6))\n",
    "palette = sns.color_palette('bright', n_colors=4)\n",
    "\n",
    "for cluster in range(4):\n",
    "    plt.scatter(\n",
    "        rfm_scaled[kmean.labels_ == cluster, 1],  # Frequency بعد اللوغ + سكالينغ\n",
    "        rfm_scaled[kmean.labels_ == cluster, 2],  # Monetary بعد اللوغ + سكالينغ\n",
    "        s=50, label=f'Cluster {cluster + 1}', color=palette[cluster]\n",
    "    )\n",
    "\n",
    "plt.title('Customer Clusters with Centroids (log1p + Scaled)')\n",
    "plt.xlabel('Frequency (log1p + Scaled)')\n",
    "plt.ylabel('Monetary (log1p + Scaled)')\n",
    "plt.legend()\n",
    "plt.grid(True)\n",
    "plt.show()\n"
   ]
  },
  {
   "cell_type": "code",
   "execution_count": 54,
   "id": "51be0af2-3f16-4e80-aedd-8e1f4345c472",
   "metadata": {},
   "outputs": [
    {
     "data": {
      "image/png": "[encoded data removed]",
      "text/plain": [
       "<Figure size 800x600 with 1 Axes>"
      ]
     },
     "metadata": {},
     "output_type": "display_data"
    }
   ],
   "source": [
    "plt.figure(figsize=(8, 6))\n",
    "palette = sns.color_palette('bright', n_colors=4)\n",
    "\n",
    "for cluster in range(4):\n",
    "    plt.scatter(\n",
    "        rfm[rfm['cluster'] == cluster]['frequancy'],\n",
    "        rfm[rfm['cluster'] == cluster]['monetary'],\n",
    "        s=50, label=f'Cluster {cluster + 1}', color=palette[cluster]\n",
    "    )\n",
    "\n",
    "plt.title('Customer Clusters on Original Data (Frequency vs Monetary)')\n",
    "plt.xlabel('Frequency (Original)')\n",
    "plt.ylabel('Monetary (Original)')\n",
    "plt.legend()\n",
    "plt.grid(True)\n",
    "plt.show()\n"
   ]
  },
  {
   "cell_type": "code",
   "execution_count": 47,
   "id": "32e07cfe-4eb8-4dea-b0bc-4780177a01df",
   "metadata": {},
   "outputs": [],
   "source": [
    "# مثال مبدأي للتسمية بناءً على ملخص الأرقام\n",
    "rfm['Cluster_Name'] = rfm['cluster'].map({\n",
    "    1: 'New Comers',      # عملاء جدد ونشطين\n",
    "    2: 'Loyal Customers', # ولاء وتكرار قوي\n",
    "    3: 'At Risk',         # مهددين بالفقدان\n",
    "    4: 'Lost'             # فقدناهم غالبًا\n",
    "})\n"
   ]
  },
  {
   "cell_type": "code",
   "execution_count": 48,
   "id": "51602dc4-8e5c-40da-9942-b1afeed13746",
   "metadata": {},
   "outputs": [],
   "source": [
    "summary = rfm.groupby('Cluster_Name').agg({\n",
    "    'recency': 'mean',\n",
    "    'frequancy': 'mean',\n",
    "    'monetary': 'mean',\n",
    "    'CustomerID': 'count'\n",
    "}).rename(columns={'CustomerID': 'Num_Customers'})\n",
    "\n"
   ]
  },
  {
   "cell_type": "code",
   "execution_count": 49,
   "id": "ca340ac7-93b9-4b6b-bd32-59d28e45f876",
   "metadata": {},
   "outputs": [
    {
     "data": {
      "image/png": "[encoded data removed]",
      "text/plain": [
       "<Figure size 640x480 with 1 Axes>"
      ]
     },
     "metadata": {},
     "output_type": "display_data"
    }
   ],
   "source": [
    "sns.countplot(data=rfm, x='Cluster_Name')\n",
    "\n",
    "plt.title('Count of Customers per Cluster')\n",
    "plt.ylabel('Number of Customers')\n",
    "plt.grid(axis='y')\n",
    "plt.show()\n"
   ]
  },
  {
   "cell_type": "code",
   "execution_count": 50,
   "id": "d05c65dd-ef33-45c4-85ea-75342cae8113",
   "metadata": {},
   "outputs": [
    {
     "name": "stdout",
     "output_type": "stream",
     "text": [
      "                    recency  frequancy     monetary  Num_Customers\n",
      "Cluster_Name                                                      \n",
      "At Risk           66.718987   4.172996  1819.250247           1185\n",
      "Lost             186.730818   1.338994   353.811051           1590\n",
      "Loyal Customers   11.736917  13.775106  8107.548571            707\n",
      "New Comers        20.047897   2.008178   510.281472            856\n"
     ]
    }
   ],
   "source": [
    "print(summary)\n"
   ]
  },
  {
   "cell_type": "code",
   "execution_count": 51,
   "id": "65b74611-c7c6-40b3-9594-b7eefeff31e1",
   "metadata": {},
   "outputs": [
    {
     "data": {
      "text/html": [
       "<div>\n",
       "<style scoped>\n",
       "    .dataframe tbody tr th:only-of-type {\n",
       "        vertical-align: middle;\n",
       "    }\n",
       "\n",
       "    .dataframe tbody tr th {\n",
       "        vertical-align: top;\n",
       "    }\n",
       "\n",
       "    .dataframe thead th {\n",
       "        text-align: right;\n",
       "    }\n",
       "</style>\n",
       "<table border=\"1\" class=\"dataframe\">\n",
       "  <thead>\n",
       "    <tr style=\"text-align: right;\">\n",
       "      <th></th>\n",
       "      <th>CustomerID</th>\n",
       "      <th>recency</th>\n",
       "      <th>frequancy</th>\n",
       "      <th>monetary</th>\n",
       "      <th>frequancy_log</th>\n",
       "      <th>monetary_log</th>\n",
       "      <th>recency_log</th>\n",
       "      <th>cluster</th>\n",
       "      <th>Cluster_Name</th>\n",
       "    </tr>\n",
       "  </thead>\n",
       "  <tbody>\n",
       "    <tr>\n",
       "      <th>0</th>\n",
       "      <td>12346.0</td>\n",
       "      <td>326</td>\n",
       "      <td>1</td>\n",
       "      <td>77183.60</td>\n",
       "      <td>0.693147</td>\n",
       "      <td>11.253955</td>\n",
       "      <td>5.789960</td>\n",
       "      <td>3</td>\n",
       "      <td>At Risk</td>\n",
       "    </tr>\n",
       "    <tr>\n",
       "      <th>1</th>\n",
       "      <td>12347.0</td>\n",
       "      <td>2</td>\n",
       "      <td>7</td>\n",
       "      <td>4310.00</td>\n",
       "      <td>2.079442</td>\n",
       "      <td>8.368925</td>\n",
       "      <td>1.098612</td>\n",
       "      <td>2</td>\n",
       "      <td>Loyal Customers</td>\n",
       "    </tr>\n",
       "    <tr>\n",
       "      <th>2</th>\n",
       "      <td>12348.0</td>\n",
       "      <td>75</td>\n",
       "      <td>4</td>\n",
       "      <td>1797.24</td>\n",
       "      <td>1.609438</td>\n",
       "      <td>7.494564</td>\n",
       "      <td>4.330733</td>\n",
       "      <td>3</td>\n",
       "      <td>At Risk</td>\n",
       "    </tr>\n",
       "    <tr>\n",
       "      <th>3</th>\n",
       "      <td>12349.0</td>\n",
       "      <td>19</td>\n",
       "      <td>1</td>\n",
       "      <td>1757.55</td>\n",
       "      <td>0.693147</td>\n",
       "      <td>7.472245</td>\n",
       "      <td>2.995732</td>\n",
       "      <td>1</td>\n",
       "      <td>New Comers</td>\n",
       "    </tr>\n",
       "    <tr>\n",
       "      <th>4</th>\n",
       "      <td>12350.0</td>\n",
       "      <td>310</td>\n",
       "      <td>1</td>\n",
       "      <td>334.40</td>\n",
       "      <td>0.693147</td>\n",
       "      <td>5.815324</td>\n",
       "      <td>5.739793</td>\n",
       "      <td>4</td>\n",
       "      <td>Lost</td>\n",
       "    </tr>\n",
       "  </tbody>\n",
       "</table>\n",
       "</div>"
      ],
      "text/plain": [
       "   CustomerID  recency  frequancy  monetary  frequancy_log  monetary_log  \\\n",
       "0     12346.0      326          1  77183.60       0.693147     11.253955   \n",
       "1     12347.0        2          7   4310.00       2.079442      8.368925   \n",
       "2     12348.0       75          4   1797.24       1.609438      7.494564   \n",
       "3     12349.0       19          1   1757.55       0.693147      7.472245   \n",
       "4     12350.0      310          1    334.40       0.693147      5.815324   \n",
       "\n",
       "   recency_log  cluster     Cluster_Name  \n",
       "0     5.789960        3          At Risk  \n",
       "1     1.098612        2  Loyal Customers  \n",
       "2     4.330733        3          At Risk  \n",
       "3     2.995732        1       New Comers  \n",
       "4     5.739793        4             Lost  "
      ]
     },
     "execution_count": 51,
     "metadata": {},
     "output_type": "execute_result"
    }
   ],
   "source": [
    "rfm.head()"
   ]
  },
  {
   "cell_type": "markdown",
   "id": "6e28d151-3742-45ab-a96d-5e2f05b55d70",
   "metadata": {},
   "source": [
    "-----------------------------------------------------------------------------------"
   ]
  },
  {
   "cell_type": "markdown",
   "id": "5086491a-e195-4d12-adc8-0537cc73758e",
   "metadata": {},
   "source": [
    "# deployment \n",
    "using a supervised model now for the classification "
   ]
  },
  {
   "cell_type": "code",
   "execution_count": 68,
   "id": "2e762c68-ddc3-4cf6-a96f-c4a56ae81992",
   "metadata": {},
   "outputs": [],
   "source": [
    "# random forest tree where the cluster is the target \n",
    "from sklearn.ensemble import RandomForestClassifier\n",
    "from sklearn.model_selection import train_test_split\n",
    "from sklearn.metrics import classification_report, confusion_matrix, f1_score, accuracy_score\n",
    "from sklearn.model_selection import cross_val_score\n",
    "import pickle"
   ]
  },
  {
   "cell_type": "code",
   "execution_count": 69,
   "id": "312c01c0-d1ad-4f0d-922a-b88fc0f5e3ea",
   "metadata": {},
   "outputs": [],
   "source": [
    "X = rfm[['recency_log', 'frequancy_log', 'monetary_log']]\n",
    "y = rfm['Cluster_Name']\n"
   ]
  },
  {
   "cell_type": "code",
   "execution_count": 70,
   "id": "95419d6e-d30b-48f4-991f-09f69c9d4650",
   "metadata": {},
   "outputs": [],
   "source": [
    "# split the data \n",
    "X_train, X_test, y_train, y_test = train_test_split(X, y, test_size=0.2, random_state=42)\n",
    "\n",
    "# scaling the train data \n",
    "scaler = StandardScaler()\n",
    "scaler.fit(X_train)\n",
    "\n",
    "X_train_scaled = scaler.transform(X_train)\n",
    "X_test_scaled = scaler.transform(X_test)\n"
   ]
  },
  {
   "cell_type": "code",
   "execution_count": 71,
   "id": "8cf3f59f-b0a4-4f2e-8cba-d6941a1eab9f",
   "metadata": {},
   "outputs": [
    {
     "name": "stdout",
     "output_type": "stream",
     "text": [
      "F1 Macro Scores لكل جزء: [0.96353084 0.9683428  0.97268129 0.97608241 0.98081313]\n",
      "متوسط F1 Macro: 0.972\n"
     ]
    }
   ],
   "source": [
    "\n",
    "model = RandomForestClassifier(n_estimators=100, random_state=42)\n",
    "scores = cross_val_score(model, X_train_scaled, y_train, cv=5, scoring='f1_macro')\n",
    "\n",
    "print(f\"F1 Macro Scores لكل جزء: {scores}\")\n",
    "print(f\"متوسط F1 Macro: {scores.mean():.3f}\")\n"
   ]
  },
  {
   "cell_type": "code",
   "execution_count": 72,
   "id": "313c062e-7781-45c1-8511-d6139132050d",
   "metadata": {},
   "outputs": [],
   "source": [
    "model.fit(X_train_scaled, y_train)\n",
    "y_pred = model.predict(X_test_scaled)\n"
   ]
  },
  {
   "cell_type": "code",
   "execution_count": 73,
   "id": "9c5057b0-7bd5-454c-9669-15f503ca9e63",
   "metadata": {},
   "outputs": [
    {
     "name": "stdout",
     "output_type": "stream",
     "text": [
      "✅ Final F1 Macro Score: 0.980\n",
      "✅ Final Accuracy: 97.81%\n",
      "\n",
      "🔎 Detailed Report:\n",
      "                 precision    recall  f1-score   support\n",
      "\n",
      "        At Risk       0.97      0.95      0.96       237\n",
      "Loyal Customers       0.98      0.98      0.98       323\n",
      "     New Comers       0.99      0.99      0.99       145\n",
      "           Lost       0.96      1.00      0.98       163\n",
      "\n",
      "       accuracy                           0.98       868\n",
      "      macro avg       0.98      0.98      0.98       868\n",
      "   weighted avg       0.98      0.98      0.98       868\n",
      "\n"
     ]
    }
   ],
   "source": [
    "f1_macro = f1_score(y_test, y_pred, average='macro')\n",
    "acc = accuracy_score(y_test, y_pred)\n",
    "\n",
    "print(f\"✅ Final F1 Macro Score: {f1_macro:.3f}\")\n",
    "print(f\"✅ Final Accuracy: {acc * 100:.2f}%\")\n",
    "print(\"\\n🔎 Detailed Report:\")\n",
    "print(classification_report(y_test, y_pred, target_names=y.unique()))\n"
   ]
  },
  {
   "cell_type": "code",
   "execution_count": 74,
   "id": "db608cd4-3291-48f4-8bd9-3d6ba50fd37c",
   "metadata": {},
   "outputs": [
    {
     "data": {
      "image/png": "[encoded data removed]",
      "text/plain": [
       "<Figure size 600x400 with 2 Axes>"
      ]
     },
     "metadata": {},
     "output_type": "display_data"
    }
   ],
   "source": [
    "cm = confusion_matrix(y_test, y_pred, labels=y.unique())\n",
    "plt.figure(figsize=(6, 4))\n",
    "sns.heatmap(cm, annot=True, fmt='d', cmap='Blues', xticklabels=y.unique(), yticklabels=y.unique())\n",
    "plt.title('Confusion Matrix')\n",
    "plt.xlabel('Predicted')\n",
    "plt.ylabel('Actual')\n",
    "plt.show()\n"
   ]
  },
  {
   "cell_type": "code",
   "execution_count": 75,
   "id": "f10c4039-79dc-4467-b621-16ec11ec909c",
   "metadata": {},
   "outputs": [
    {
     "data": {
      "text/plain": [
       "array([[226,   1,   5,   5],\n",
       "       [  1, 144,   0,   0],\n",
       "       [  0,   0, 163,   0],\n",
       "       [  6,   0,   1, 316]], dtype=int64)"
      ]
     },
     "execution_count": 75,
     "metadata": {},
     "output_type": "execute_result"
    }
   ],
   "source": [
    "cm"
   ]
  },
  {
   "cell_type": "code",
   "execution_count": 78,
   "id": "45084b0e-1374-4210-8367-709903ca97db",
   "metadata": {},
   "outputs": [
    {
     "name": "stdout",
     "output_type": "stream",
     "text": [
      "✅ تم حفظ النموذج والسكالير featuers معًا بنجاح.\n"
     ]
    }
   ],
   "source": [
    "features_used = ['recency_log', 'frequancy_log', 'monetary_log']\n",
    "\n",
    "with open('rfm_classifier.pkl', 'wb') as f:\n",
    "    pickle.dump({'model': model, 'scaler': scaler, 'features': features_used}, f)\n",
    "\n",
    "\n",
    "print(\"✅ تم حفظ النموذج والسكالير featuers معًا بنجاح.\")\n"
   ]
  },
  {
   "cell_type": "markdown",
   "id": "403fd05e-95d3-4ae8-ab6d-fef712b3af69",
   "metadata": {},
   "source": [
    "-----------------------------------------------------------------------------------"
   ]
  },
  {
   "cell_type": "code",
   "execution_count": 79,
   "id": "370a1f78-a84a-4a05-8176-919472d86a9e",
   "metadata": {},
   "outputs": [
    {
     "name": "stdout",
     "output_type": "stream",
     "text": [
      "الأعمدة المستخدمة للتدريب والحفظ: ['recency_log', 'frequancy_log', 'monetary_log']\n"
     ]
    }
   ],
   "source": [
    "print(\"الأعمدة المستخدمة للتدريب والحفظ:\", features_used)\n"
   ]
  },
  {
   "cell_type": "code",
   "execution_count": 77,
   "id": "79200314-6cf9-4f30-9ec5-d5af73481d8d",
   "metadata": {},
   "outputs": [
    {
     "name": "stdout",
     "output_type": "stream",
     "text": [
      "✅ تم إنشاء ملف mock_data__RFM.csv بنجاح.\n"
     ]
    }
   ],
   "source": [
    "# توليد بيانات وهمية لـ 20 عميل\n",
    "np.random.seed(42)\n",
    "data = {\n",
    "    'CustomerID': np.arange(1001, 1021),\n",
    "    'recency': np.random.randint(1, 365, size=20),        # الأيام منذ آخر عملية\n",
    "    'frequancy': np.random.randint(1, 20, size=20),       # عدد مرات الشراء\n",
    "    'monetary': np.random.randint(100, 10000, size=20)    # القيمة المالية الإجمالية\n",
    "}\n",
    "df_mock = pd.DataFrame(data)\n",
    "df_mock.to_csv('mock_data__RFM.csv', index=False, encoding='utf-8-sig')\n",
    "print(\"✅ تم إنشاء ملف mock_data__RFM.csv بنجاح.\")\n"
   ]
  },
  {
   "cell_type": "code",
   "execution_count": null,
   "id": "2b0eaf0c-852b-4168-a71f-4c99961eaff1",
   "metadata": {},
   "outputs": [],
   "source": []
  },
  {
   "cell_type": "code",
   "execution_count": null,
   "id": "efe250a7-ff7f-4f44-8fff-a89c7d12ce57",
   "metadata": {},
   "outputs": [],
   "source": []
  }
 ],
 "metadata": {
  "kernelspec": {
   "display_name": "Python 3 (ipykernel)",
   "language": "python",
   "name": "python3"
  },
  "language_info": {
   "codemirror_mode": {
    "name": "ipython",
    "version": 3
   },
   "file_extension": ".py",
   "mimetype": "text/x-python",
   "name": "python",
   "nbconvert_exporter": "python",
   "pygments_lexer": "ipython3",
   "version": "3.12.4"
  }
 },
 "nbformat": 4,
 "nbformat_minor": 5
}
